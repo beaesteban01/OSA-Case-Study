{
 "cells": [
  {
   "cell_type": "code",
   "execution_count": 1,
   "metadata": {},
   "outputs": [],
   "source": [
    "import pandas as pd\n",
    "import numpy as np\n",
    "\n",
    "file = '../../../DATA/OSA_python.xlsx'\n",
    "data = pd.read_excel(file)\n",
    "df = pd.DataFrame(data)"
   ]
  },
  {
   "cell_type": "code",
   "execution_count": 2,
   "metadata": {},
   "outputs": [
    {
     "data": {
      "text/html": [
       "<div>\n",
       "<style scoped>\n",
       "    .dataframe tbody tr th:only-of-type {\n",
       "        vertical-align: middle;\n",
       "    }\n",
       "\n",
       "    .dataframe tbody tr th {\n",
       "        vertical-align: top;\n",
       "    }\n",
       "\n",
       "    .dataframe thead th {\n",
       "        text-align: right;\n",
       "    }\n",
       "</style>\n",
       "<table border=\"1\" class=\"dataframe\">\n",
       "  <thead>\n",
       "    <tr style=\"text-align: right;\">\n",
       "      <th></th>\n",
       "      <th>Gender</th>\n",
       "      <th>IAH</th>\n",
       "      <th>Weight</th>\n",
       "      <th>Height</th>\n",
       "      <th>Age</th>\n",
       "      <th>Cervical</th>\n",
       "      <th>BMI</th>\n",
       "    </tr>\n",
       "    <tr>\n",
       "      <th>Patient</th>\n",
       "      <th></th>\n",
       "      <th></th>\n",
       "      <th></th>\n",
       "      <th></th>\n",
       "      <th></th>\n",
       "      <th></th>\n",
       "      <th></th>\n",
       "    </tr>\n",
       "  </thead>\n",
       "  <tbody>\n",
       "    <tr>\n",
       "      <th>P0002</th>\n",
       "      <td>1</td>\n",
       "      <td>29.6</td>\n",
       "      <td>119</td>\n",
       "      <td>174</td>\n",
       "      <td>56</td>\n",
       "      <td>48.0</td>\n",
       "      <td>0.003931</td>\n",
       "    </tr>\n",
       "    <tr>\n",
       "      <th>P0004</th>\n",
       "      <td>1</td>\n",
       "      <td>19.7</td>\n",
       "      <td>78</td>\n",
       "      <td>168</td>\n",
       "      <td>39</td>\n",
       "      <td>42.0</td>\n",
       "      <td>0.002764</td>\n",
       "    </tr>\n",
       "    <tr>\n",
       "      <th>P0005</th>\n",
       "      <td>1</td>\n",
       "      <td>9.0</td>\n",
       "      <td>80</td>\n",
       "      <td>173</td>\n",
       "      <td>32</td>\n",
       "      <td>40.0</td>\n",
       "      <td>0.002673</td>\n",
       "    </tr>\n",
       "    <tr>\n",
       "      <th>P0006</th>\n",
       "      <td>1</td>\n",
       "      <td>2.0</td>\n",
       "      <td>109</td>\n",
       "      <td>190</td>\n",
       "      <td>32</td>\n",
       "      <td>42.0</td>\n",
       "      <td>0.003019</td>\n",
       "    </tr>\n",
       "    <tr>\n",
       "      <th>P0007</th>\n",
       "      <td>1</td>\n",
       "      <td>34.0</td>\n",
       "      <td>86</td>\n",
       "      <td>169</td>\n",
       "      <td>39</td>\n",
       "      <td>42.0</td>\n",
       "      <td>0.003011</td>\n",
       "    </tr>\n",
       "  </tbody>\n",
       "</table>\n",
       "</div>"
      ],
      "text/plain": [
       "         Gender   IAH  Weight  Height  Age  Cervical       BMI\n",
       "Patient                                                       \n",
       "P0002         1  29.6     119     174   56      48.0  0.003931\n",
       "P0004         1  19.7      78     168   39      42.0  0.002764\n",
       "P0005         1   9.0      80     173   32      40.0  0.002673\n",
       "P0006         1   2.0     109     190   32      42.0  0.003019\n",
       "P0007         1  34.0      86     169   39      42.0  0.003011"
      ]
     },
     "execution_count": 2,
     "metadata": {},
     "output_type": "execute_result"
    }
   ],
   "source": [
    "df.set_index('Patient', inplace=True)\n",
    "df.head()"
   ]
  },
  {
   "cell_type": "code",
   "execution_count": 3,
   "metadata": {},
   "outputs": [],
   "source": [
    "#features \n",
    "predictors = ['Gender', 'Weight', 'Height', 'Age', 'Cervical', 'BMI']\n",
    "x = df[predictors].values\n",
    "y = df['IAH'].values"
   ]
  },
  {
   "cell_type": "markdown",
   "metadata": {},
   "source": [
    "# Approach 1. only split train test"
   ]
  },
  {
   "cell_type": "code",
   "execution_count": null,
   "metadata": {},
   "outputs": [],
   "source": [
    "from sklearn import model_selection\n",
    "x_train, x_test, y_train, y_test = model_selection.train_test_split(x, y, test_size= 0.2)"
   ]
  },
  {
   "cell_type": "markdown",
   "metadata": {},
   "source": [
    "### Fittings (not part of the problem)"
   ]
  },
  {
   "cell_type": "code",
   "execution_count": null,
   "metadata": {},
   "outputs": [],
   "source": [
    "import sklearn\n",
    "import matplotlib.pyplot as plt\n",
    "\n",
    "from sklearn import datasets\n",
    "\n",
    "#LINEAR REGRESSION\n",
    "from sklearn.linear_model import LinearRegression\n",
    "x, y = datasets.make_regression(n_samples=30, n_features=1, noise=10)\n",
    "\n",
    "y=y**2\n",
    "model = LinearRegression().fit(x,y)\n",
    "plt.figure(figsize=(9, 8))\n",
    "plt.scatter(x, y)\n",
    "plt.plot(x,model.predict(x), \"g\")\n",
    "plt.show()"
   ]
  },
  {
   "cell_type": "code",
   "execution_count": null,
   "metadata": {},
   "outputs": [],
   "source": [
    "#DECISION TREE\n",
    "from sklearn.tree import DecisionTreeRegressor\n",
    "x_test= np.linspace(x.min(),x.max(), 100)[:, np.newaxis]\n",
    "\n",
    "model = DecisionTreeRegressor().fit(x,y)\n",
    "plt.figure(figsize=(9, 8))\n",
    "plt.scatter(x, y)\n",
    "plt.plot(x_test ,model.predict(x_test), \"g\")\n",
    "plt.show()"
   ]
  },
  {
   "cell_type": "code",
   "execution_count": null,
   "metadata": {},
   "outputs": [],
   "source": [
    "#RANDOM FOREST\n",
    "from sklearn.ensemble import RandomForestRegressor\n",
    "\n",
    "model = RandomForestRegressor(n_estimators=100).fit(x,y)\n",
    "plt.figure(figsize=(9, 8))\n",
    "plt.scatter(x, y)\n",
    "plt.plot(x_test ,model.predict(x_test), \"g\")\n",
    "plt.show()"
   ]
  },
  {
   "cell_type": "code",
   "execution_count": null,
   "metadata": {},
   "outputs": [],
   "source": [
    "#KNN\n",
    "from sklearn.neighbors import KNeighborsRegressor\n",
    "\n",
    "model = KNeighborsRegressor(n_neighbors=5).fit(x,y)\n",
    "plt.figure(figsize=(9, 8))\n",
    "plt.scatter(x, y)\n",
    "plt.plot(x_test ,model.predict(x_test), \"g\")\n",
    "plt.show()"
   ]
  },
  {
   "cell_type": "markdown",
   "metadata": {},
   "source": [
    "# Approach 1. Only split train test"
   ]
  },
  {
   "cell_type": "code",
   "execution_count": 4,
   "metadata": {},
   "outputs": [],
   "source": [
    "from sklearn import model_selection\n",
    "from sklearn import linear_model\n",
    "\n",
    "import matplotlib.pyplot as plt\n",
    "from sklearn.metrics import  mean_absolute_error, mean_squared_error, max_error, r2_score\n",
    "\n",
    "\n",
    "x_train, x_test, y_train, y_test = model_selection.train_test_split(x, y, test_size= 0.2)\n"
   ]
  },
  {
   "cell_type": "code",
   "execution_count": 6,
   "metadata": {},
   "outputs": [
    {
     "name": "stdout",
     "output_type": "stream",
     "text": [
      "MSE:  194.19262501189115\n",
      "RMSE:  13.935301396521396\n",
      "MAE:  10.801251134373404\n",
      "R2 score:  0.29234519088434296\n"
     ]
    }
   ],
   "source": [
    "from sklearn.linear_model import LinearRegression\n",
    "model_linear = linear_model.LinearRegression().fit(x_train,y_train)\n",
    "\n",
    "y_out_linear = model_linear.predict(x_test)\n",
    "\n",
    "mse_lin_1 = mean_squared_error(y_test, y_out_linear)\n",
    "rmse_lin_1 =  mean_squared_error(y_test, y_out_linear, squared=False)\n",
    "mae_lin_1 = mean_absolute_error(y_test, y_out_linear)\n",
    "r2_lin_1 = r2_score(y_test, y_out_linear)\n",
    "\n",
    "print(\"MSE: \",mse_lin_1)\n",
    "print(\"RMSE: \",rmse_lin_1)\n",
    "print(\"MAE: \",mae_lin_1)\n",
    "print(\"R2 score: \",r2_lin_1)\n"
   ]
  },
  {
   "cell_type": "code",
   "execution_count": 5,
   "metadata": {},
   "outputs": [
    {
     "name": "stdout",
     "output_type": "stream",
     "text": [
      "MSE:  416.617716535433\n",
      "RMSE:  20.411215459531874\n",
      "MAE:  15.566141732283462\n",
      "R2 score:  -0.518191180798085\n"
     ]
    }
   ],
   "source": [
    "from sklearn.tree import DecisionTreeRegressor\n",
    "model_tree = DecisionTreeRegressor().fit(x_train, y_train)\n",
    "\n",
    "y_out_tree = model_tree.predict(x_test)\n",
    "\n",
    "mse_tree_1 = mean_squared_error(y_test, y_out_tree)\n",
    "rmse_tree_1 =  mean_squared_error(y_test, y_out_tree, squared=False)\n",
    "mae_tree_1 = mean_absolute_error(y_test, y_out_tree)\n",
    "r2_tree_1 = r2_score(y_test, y_out_tree)\n",
    "\n",
    "print(\"MSE: \",mse_tree_1)\n",
    "print(\"RMSE: \",rmse_tree_1)\n",
    "print(\"MAE: \",mae_tree_1)\n",
    "print(\"R2 score: \",r2_tree_1)"
   ]
  },
  {
   "cell_type": "code",
   "execution_count": 7,
   "metadata": {},
   "outputs": [
    {
     "name": "stdout",
     "output_type": "stream",
     "text": [
      "MSE:  231.52712083496064\n",
      "RMSE:  15.21601527453757\n",
      "MAE:  11.925078740157483\n",
      "R2 score:  0.15629504215451484\n"
     ]
    }
   ],
   "source": [
    "from sklearn.ensemble import RandomForestRegressor\n",
    "\n",
    "model_forest = RandomForestRegressor().fit(x_train, y_train)\n",
    "\n",
    "y_out_forest = model_forest.predict(x_test)\n",
    "\n",
    "mse_for_1 = mean_squared_error(y_test, y_out_forest)\n",
    "rmse_for_1 =  mean_squared_error(y_test, y_out_forest, squared=False)\n",
    "mae_for_1 = mean_absolute_error(y_test, y_out_forest)\n",
    "r2_for_1 = r2_score(y_test, y_out_forest)\n",
    "print(\"MSE: \",mse_for_1)\n",
    "print(\"RMSE: \",rmse_for_1)\n",
    "print(\"MAE: \",mae_for_1)\n",
    "print(\"R2 score: \",r2_for_1)\n"
   ]
  },
  {
   "cell_type": "code",
   "execution_count": 8,
   "metadata": {},
   "outputs": [
    {
     "name": "stdout",
     "output_type": "stream",
     "text": [
      "MSE:  253.2133888503937\n",
      "RMSE:  15.912680127822393\n",
      "MAE:  12.07143307086614\n",
      "R2 score:  0.07726839605015035\n"
     ]
    }
   ],
   "source": [
    "from sklearn.neighbors import KNeighborsRegressor\n",
    "\n",
    "model_knn = KNeighborsRegressor().fit(x_train, y_train)\n",
    "\n",
    "y_out_knn = model_knn.predict(x_test)\n",
    "\n",
    "mse_knn_1 = mean_squared_error(y_test, y_out_knn)\n",
    "rmse_knn_1 =  mean_squared_error(y_test, y_out_knn, squared=False)\n",
    "mae_knn_1 = mean_absolute_error(y_test, y_out_knn)\n",
    "r2_knn_1 = r2_score(y_test, y_out_knn)\n",
    "print(\"MSE: \",mse_knn_1)\n",
    "print(\"RMSE: \",rmse_knn_1)\n",
    "print(\"MAE: \",mae_knn_1)\n",
    "print(\"R2 score: \",r2_knn_1)"
   ]
  },
  {
   "cell_type": "markdown",
   "metadata": {},
   "source": [
    "# Approach 2.  Add cross_val_predict to plot predictios only\n",
    "## use cross_val_score to use metrics"
   ]
  },
  {
   "cell_type": "code",
   "execution_count": 9,
   "metadata": {},
   "outputs": [],
   "source": [
    "from sklearn.model_selection import cross_val_predict, cross_val_score"
   ]
  },
  {
   "cell_type": "markdown",
   "metadata": {},
   "source": [
    "## LINEAR REGRESSION"
   ]
  },
  {
   "cell_type": "code",
   "execution_count": 14,
   "metadata": {},
   "outputs": [],
   "source": [
    "from sklearn.linear_model import LinearRegression\n",
    "model_linear = linear_model.LinearRegression().fit(x,y)\n"
   ]
  },
  {
   "cell_type": "code",
   "execution_count": 52,
   "metadata": {},
   "outputs": [
    {
     "name": "stdout",
     "output_type": "stream",
     "text": [
      "MSE cross validated:  273.0133151369417\n",
      "RMSE cross validated:  16.421166927819595\n",
      "MAE cross validated:  12.471179662938994\n",
      "R2 score cross validated:  0.21384429042318578\n"
     ]
    }
   ],
   "source": [
    "\n",
    "mse_lin_2 = cross_val_score(model_linear, x, y, cv = 3, scoring = 'neg_mean_squared_error')\n",
    "rmse_lin_2 = cross_val_score(model_linear, x, y, cv = 3, scoring = 'neg_root_mean_squared_error')\n",
    "mae_lin_2 = cross_val_score(model_linear, x, y, cv = 3, scoring = 'neg_mean_absolute_error')\n",
    "r2_lin_2 = cross_val_score(model_linear, x, y, cv = 3, scoring = 'r2')\n",
    "\n",
    "print(\"MSE cross validated: \",abs(mse_lin_2.mean()))\n",
    "print(\"RMSE cross validated: \",abs(rmse_lin_2.mean()))\n",
    "print(\"MAE cross validated: \",abs(mae_lin_2.mean()))\n",
    "print(\"R2 score cross validated: \",r2_lin_2.mean())"
   ]
  },
  {
   "cell_type": "code",
   "execution_count": 15,
   "metadata": {},
   "outputs": [
    {
     "data": {
      "image/png": "[encoded data removed]",
      "text/plain": [
       "<Figure size 432x288 with 1 Axes>"
      ]
     },
     "metadata": {
      "needs_background": "light"
     },
     "output_type": "display_data"
    }
   ],
   "source": [
    "y_out_linear = cross_val_predict(model_linear, x, y, cv = 3) #Para pintar solo\n",
    "fig, ax = plt.subplots()\n",
    "ax.scatter(y, y_out_linear, c  = '#8DD657')\n",
    "ax.plot([y.min(), y.max()], [y.min(), y.max()], 'k--', lw=4)\n",
    "ax.set_xlabel('Measured')\n",
    "ax.set_ylabel('Predicted')\n",
    "plt.title('Prediction errors with Linear Regression')\n",
    "plt.show()\n",
    "\n"
   ]
  },
  {
   "cell_type": "markdown",
   "metadata": {},
   "source": [
    "## Decision tree"
   ]
  },
  {
   "cell_type": "code",
   "execution_count": 17,
   "metadata": {},
   "outputs": [],
   "source": [
    "from sklearn.tree import DecisionTreeRegressor\n",
    "model_tree = DecisionTreeRegressor().fit(x, y)"
   ]
  },
  {
   "cell_type": "code",
   "execution_count": 18,
   "metadata": {},
   "outputs": [
    {
     "data": {
      "image/png": "[encoded data removed]",
      "text/plain": [
       "<Figure size 432x288 with 1 Axes>"
      ]
     },
     "metadata": {
      "needs_background": "light"
     },
     "output_type": "display_data"
    }
   ],
   "source": [
    "y_out_tree = cross_val_predict(model_tree, x, y, cv = 3)\n",
    "\n",
    "fig, ax = plt.subplots()\n",
    "ax.scatter(y, y_out_tree, c  = '#8DD657')\n",
    "ax.plot([y.min(), y.max()], [y.min(), y.max()], 'k--', lw=4)\n",
    "ax.set_xlabel('Measured')\n",
    "ax.set_ylabel('Predicted')\n",
    "plt.title('Prediction errors with Decision Tree')\n",
    "plt.show()\n"
   ]
  },
  {
   "cell_type": "code",
   "execution_count": 53,
   "metadata": {},
   "outputs": [
    {
     "name": "stdout",
     "output_type": "stream",
     "text": [
      "MSE cross validated:  495.83359874511916\n",
      "RMSE cross validated:  22.59353028401205\n",
      "MAE cross validated:  16.54097424662434\n",
      "R2 score cross validated:  -0.5453547962897553\n"
     ]
    }
   ],
   "source": [
    "\n",
    "mse_tree_2 = cross_val_score(model_tree, x, y, cv = 3, scoring = 'neg_mean_squared_error')\n",
    "rmse_tree_2 = cross_val_score(model_tree, x, y, cv = 3, scoring = 'neg_root_mean_squared_error')\n",
    "mae_tree_2 = cross_val_score(model_tree, x, y, cv = 3, scoring = 'neg_mean_absolute_error')\n",
    "r2_tree_2= cross_val_score(model_tree, x, y, cv = 3, scoring = 'r2')\n",
    "\n",
    "print(\"MSE cross validated: \",abs(mse_tree_2.mean()))\n",
    "print(\"RMSE cross validated: \",abs(rmse_tree_2.mean()))\n",
    "print(\"MAE cross validated: \",abs(mae_tree_2.mean()))\n",
    "print(\"R2 score cross validated: \",r2_tree_2.mean())"
   ]
  },
  {
   "cell_type": "markdown",
   "metadata": {},
   "source": [
    "## Random forest"
   ]
  },
  {
   "cell_type": "code",
   "execution_count": 20,
   "metadata": {},
   "outputs": [
    {
     "data": {
      "image/png": "[encoded data removed]",
      "text/plain": [
       "<Figure size 432x288 with 1 Axes>"
      ]
     },
     "metadata": {
      "needs_background": "light"
     },
     "output_type": "display_data"
    }
   ],
   "source": [
    "from sklearn.ensemble import RandomForestRegressor\n",
    "\n",
    "model_forest = RandomForestRegressor().fit(x, y)\n",
    "\n",
    "y_out_forest = cross_val_predict(model_forest, x, y, cv = 3)\n",
    "\n",
    "fig, ax = plt.subplots()\n",
    "ax.scatter(y, y_out_forest, c  = '#8DD657')\n",
    "ax.plot([y.min(), y.max()], [y.min(), y.max()], 'k--', lw=4)\n",
    "ax.set_xlabel('Measured')\n",
    "ax.set_ylabel('Predicted')\n",
    "plt.title('Prediction errors with Random Forest')\n",
    "plt.show()\n",
    "\n"
   ]
  },
  {
   "cell_type": "code",
   "execution_count": 54,
   "metadata": {},
   "outputs": [
    {
     "name": "stdout",
     "output_type": "stream",
     "text": [
      "MSE cross validated:  289.3013628265325\n",
      "RMSE cross validated:  17.094604219102667\n",
      "MAE cross validated:  12.628055666338787\n",
      "R2 score cross validated:  0.14361897720161723\n"
     ]
    }
   ],
   "source": [
    "mse_for_2 = cross_val_score(model_forest, x, y, cv = 3, scoring = 'neg_mean_squared_error')\n",
    "rmse_for_2 = cross_val_score(model_forest, x, y, cv = 3, scoring = 'neg_root_mean_squared_error')\n",
    "mae_for_2 = cross_val_score(model_forest, x, y, cv = 3, scoring = 'neg_mean_absolute_error')\n",
    "r2_for_2 = cross_val_score(model_forest, x, y, cv = 3, scoring = 'r2')\n",
    "\n",
    "print(\"MSE cross validated: \",abs(mse_for_2.mean()))\n",
    "print(\"RMSE cross validated: \",abs(rmse_for_2.mean()))\n",
    "print(\"MAE cross validated: \",abs(mae_for_2.mean()))\n",
    "print(\"R2 score cross validated: \",r2_for_2.mean())"
   ]
  },
  {
   "cell_type": "markdown",
   "metadata": {},
   "source": [
    "## K Nearest Neighbors"
   ]
  },
  {
   "cell_type": "code",
   "execution_count": 22,
   "metadata": {},
   "outputs": [
    {
     "data": {
      "image/png": "[encoded data removed]",
      "text/plain": [
       "<Figure size 432x288 with 1 Axes>"
      ]
     },
     "metadata": {
      "needs_background": "light"
     },
     "output_type": "display_data"
    }
   ],
   "source": [
    "from sklearn.neighbors import KNeighborsRegressor\n",
    "\n",
    "model_knn = KNeighborsRegressor().fit(x, y)\n",
    "\n",
    "y_out_knn = cross_val_predict(model_knn, x, y, cv = 3)\n",
    "\n",
    "fig, ax = plt.subplots()\n",
    "ax.scatter(y, y_out_knn, c  = '#8DD657')\n",
    "ax.plot([y.min(), y.max()], [y.min(), y.max()], 'k--', lw=4)\n",
    "ax.set_xlabel('Measured')\n",
    "ax.set_ylabel('Predicted')\n",
    "plt.title('Prediction errors with KNN')\n",
    "plt.show()"
   ]
  },
  {
   "cell_type": "code",
   "execution_count": 55,
   "metadata": {},
   "outputs": [
    {
     "name": "stdout",
     "output_type": "stream",
     "text": [
      "MSE cross validated:  315.1508027528689\n",
      "RMSE cross validated:  17.644022403698045\n",
      "MAE cross validated:  13.145371397061018\n",
      "R2 score cross validated:  0.09262158568640984\n"
     ]
    }
   ],
   "source": [
    "mse_knn_2 = cross_val_score(model_knn, x, y, cv = 3, scoring = 'neg_mean_squared_error')\n",
    "rmse_knn_2 = cross_val_score(model_knn, x, y, cv = 3, scoring = 'neg_root_mean_squared_error')\n",
    "mae_knn_2 = cross_val_score(model_knn, x, y, cv = 3, scoring = 'neg_mean_absolute_error')\n",
    "r2_knn_2 = cross_val_score(model_knn, x, y, cv = 3, scoring = 'r2')\n",
    "\n",
    "print(\"MSE cross validated: \",abs(mse_knn_2.mean()))\n",
    "print(\"RMSE cross validated: \",abs(rmse_knn_2.mean()))\n",
    "print(\"MAE cross validated: \",abs(mae_knn_2.mean()))\n",
    "print(\"R2 score cross validated: \",r2_knn_2.mean())"
   ]
  },
  {
   "cell_type": "code",
   "execution_count": null,
   "metadata": {},
   "outputs": [],
   "source": [
    "results "
   ]
  },
  {
   "cell_type": "code",
   "execution_count": 61,
   "metadata": {},
   "outputs": [],
   "source": [
    "results = pd.DataFrame({'Model': ['Linear regresion 1', 'Decision Tree 1', 'Random Forest 1', 'KNN 1', \n",
    "                                  'Linear regresion 2', 'Decision Tree 2', 'Random Forest 2', 'KNN 2'],\n",
    "                        'MSE':   [mse_lin_1, mse_tree_1, mse_for_1, mse_knn_1, \n",
    "                                 mse_lin_2.mean(), mse_tree_2.mean(), mse_for_2.mean(), mse_knn_2.mean()],\n",
    "                        'RMSE': [rmse_lin_1, rmse_tree_1, rmse_for_1, rmse_knn_1,\n",
    "                                rmse_lin_2.mean(), rmse_tree_2.mean(), rmse_for_2.mean(), rmse_knn_2.mean()],\n",
    "                        'MAE': [mae_lin_1, mae_tree_1, mae_for_1, mae_knn_1,\n",
    "                               mae_lin_2.mean(), mae_tree_2.mean(), mae_for_2.mean(), mae_knn_2.mean()],\n",
    "                        'R2': [r2_lin_1, r2_tree_1, r2_for_1, r2_knn_1,\n",
    "                              r2_lin_2.mean(), r2_tree_2.mean(), r2_for_2.mean(), r2_knn_2.mean()]})"
   ]
  },
  {
   "cell_type": "code",
   "execution_count": 69,
   "metadata": {},
   "outputs": [],
   "source": [
    "results2 = pd.DataFrame({'Model': ['Linear regresion 1', 'Decision Tree 1', 'Random Forest 1', 'KNN 1', \n",
    "                                  'Linear regresion 2', 'Decision Tree 2', 'Random Forest 2', 'KNN 2'],\n",
    "                        'MSE':   [mse_lin_1, mse_tree_1, mse_for_1, mse_knn_1, \n",
    "                                 abs(mse_lin_2.mean()), abs(mse_tree_2.mean()), abs(mse_for_2.mean()), abs(mse_knn_2.mean())],\n",
    "                        'RMSE': [rmse_lin_1, rmse_tree_1, rmse_for_1, rmse_knn_1,\n",
    "                                abs(rmse_lin_2.mean()), abs(rmse_tree_2.mean()), abs(rmse_for_2.mean()), abs(rmse_knn_2.mean())],\n",
    "                        'MAE': [mae_lin_1, mae_tree_1, mae_for_1, mae_knn_1,\n",
    "                               abs(mae_lin_2.mean()), abs(mae_tree_2.mean()), abs(mae_for_2.mean()), abs(mae_knn_2.mean())],\n",
    "                        'R2': [r2_lin_1, r2_tree_1, r2_for_1, r2_knn_1,\n",
    "                              abs(r2_lin_2.mean()), abs(r2_tree_2.mean()), abs(r2_for_2.mean()), abs(r2_knn_2.mean())]})"
   ]
  },
  {
   "cell_type": "code",
   "execution_count": 70,
   "metadata": {},
   "outputs": [
    {
     "data": {
      "text/html": [
       "<div>\n",
       "<style scoped>\n",
       "    .dataframe tbody tr th:only-of-type {\n",
       "        vertical-align: middle;\n",
       "    }\n",
       "\n",
       "    .dataframe tbody tr th {\n",
       "        vertical-align: top;\n",
       "    }\n",
       "\n",
       "    .dataframe thead th {\n",
       "        text-align: right;\n",
       "    }\n",
       "</style>\n",
       "<table border=\"1\" class=\"dataframe\">\n",
       "  <thead>\n",
       "    <tr style=\"text-align: right;\">\n",
       "      <th></th>\n",
       "      <th>Model</th>\n",
       "      <th>MSE</th>\n",
       "      <th>RMSE</th>\n",
       "      <th>MAE</th>\n",
       "      <th>R2</th>\n",
       "    </tr>\n",
       "  </thead>\n",
       "  <tbody>\n",
       "    <tr>\n",
       "      <th>0</th>\n",
       "      <td>Linear regresion 1</td>\n",
       "      <td>194.192625</td>\n",
       "      <td>13.935301</td>\n",
       "      <td>10.801251</td>\n",
       "      <td>0.292345</td>\n",
       "    </tr>\n",
       "    <tr>\n",
       "      <th>1</th>\n",
       "      <td>Decision Tree 1</td>\n",
       "      <td>416.617717</td>\n",
       "      <td>20.411215</td>\n",
       "      <td>15.566142</td>\n",
       "      <td>-0.518191</td>\n",
       "    </tr>\n",
       "    <tr>\n",
       "      <th>2</th>\n",
       "      <td>Random Forest 1</td>\n",
       "      <td>231.527121</td>\n",
       "      <td>15.216015</td>\n",
       "      <td>11.925079</td>\n",
       "      <td>0.156295</td>\n",
       "    </tr>\n",
       "    <tr>\n",
       "      <th>3</th>\n",
       "      <td>KNN 1</td>\n",
       "      <td>253.213389</td>\n",
       "      <td>15.912680</td>\n",
       "      <td>12.071433</td>\n",
       "      <td>0.077268</td>\n",
       "    </tr>\n",
       "    <tr>\n",
       "      <th>4</th>\n",
       "      <td>Linear regresion 2</td>\n",
       "      <td>273.013315</td>\n",
       "      <td>16.421167</td>\n",
       "      <td>12.471180</td>\n",
       "      <td>0.213844</td>\n",
       "    </tr>\n",
       "    <tr>\n",
       "      <th>5</th>\n",
       "      <td>Decision Tree 2</td>\n",
       "      <td>495.833599</td>\n",
       "      <td>22.593530</td>\n",
       "      <td>16.540974</td>\n",
       "      <td>0.545355</td>\n",
       "    </tr>\n",
       "    <tr>\n",
       "      <th>6</th>\n",
       "      <td>Random Forest 2</td>\n",
       "      <td>289.301363</td>\n",
       "      <td>17.094604</td>\n",
       "      <td>12.628056</td>\n",
       "      <td>0.143619</td>\n",
       "    </tr>\n",
       "    <tr>\n",
       "      <th>7</th>\n",
       "      <td>KNN 2</td>\n",
       "      <td>315.150803</td>\n",
       "      <td>17.644022</td>\n",
       "      <td>13.145371</td>\n",
       "      <td>0.092622</td>\n",
       "    </tr>\n",
       "  </tbody>\n",
       "</table>\n",
       "</div>"
      ],
      "text/plain": [
       "                Model         MSE       RMSE        MAE        R2\n",
       "0  Linear regresion 1  194.192625  13.935301  10.801251  0.292345\n",
       "1     Decision Tree 1  416.617717  20.411215  15.566142 -0.518191\n",
       "2     Random Forest 1  231.527121  15.216015  11.925079  0.156295\n",
       "3               KNN 1  253.213389  15.912680  12.071433  0.077268\n",
       "4  Linear regresion 2  273.013315  16.421167  12.471180  0.213844\n",
       "5     Decision Tree 2  495.833599  22.593530  16.540974  0.545355\n",
       "6     Random Forest 2  289.301363  17.094604  12.628056  0.143619\n",
       "7               KNN 2  315.150803  17.644022  13.145371  0.092622"
      ]
     },
     "execution_count": 70,
     "metadata": {},
     "output_type": "execute_result"
    }
   ],
   "source": [
    "results2"
   ]
  },
  {
   "cell_type": "markdown",
   "metadata": {},
   "source": [
    "# KFold crossvalidation"
   ]
  },
  {
   "cell_type": "code",
   "execution_count": 24,
   "metadata": {},
   "outputs": [],
   "source": [
    "#imports si no vamos a hacer lo de fittings\n",
    "import sklearn\n",
    "import matplotlib.pyplot as plt\n",
    "from sklearn.linear_model import LinearRegression\n",
    "from sklearn.tree import DecisionTreeRegressor\n",
    "from sklearn.ensemble import RandomForestRegressor\n",
    "from sklearn.neighbors import KNeighborsRegressor\n",
    "\n",
    "from sklearn.metrics import  mean_absolute_error, mean_squared_error, max_error, r2_score\n",
    "from sklearn import model_selection\n",
    "#from sklearn import datasets\n",
    "from sklearn.model_selection import KFold"
   ]
  },
  {
   "cell_type": "code",
   "execution_count": 25,
   "metadata": {},
   "outputs": [],
   "source": [
    "#features \n",
    "predictors = ['Gender', 'Weight', 'Height', 'Age', 'Cervical', 'BMI']\n",
    "x = df[predictors].values\n",
    "y = df['IAH'].values"
   ]
  },
  {
   "cell_type": "code",
   "execution_count": 73,
   "metadata": {},
   "outputs": [
    {
     "name": "stdout",
     "output_type": "stream",
     "text": [
      "Start training models of Linear Regression 3\n",
      "Iteration 1:mae=11.7069 mse=206.0662 rmse=14.3550 r2=0.3048\n",
      "Iteration 2:mae=11.3477 mse=196.7352 rmse=14.0262 r2=0.0275\n",
      "Iteration 3:mae=14.5897 mse=427.4101 rmse=20.6739 r2=0.1889\n",
      "Iteration 4:mae=11.3326 mse=208.8643 rmse=14.4521 r2=0.1642\n",
      "Iteration 5:mae=13.4585 mse=335.8650 rmse=18.3266 r2=0.2047\n",
      "Global: mae=12.4871 mse=274.9882 rmse=16.3668 r2=0.1780\n",
      "\n",
      "Start training models of Decision Tree 3 \n",
      "Iteration 1:mae=16.3422 mse=504.5139 rmse=22.4614 r2=-0.7021\n",
      "Iteration 2:mae=16.0142 mse=463.0076 rmse=21.5176 r2=-1.2888\n",
      "Iteration 3:mae=15.4299 mse=489.2255 rmse=22.1184 r2=0.0715\n",
      "Iteration 4:mae=14.8031 mse=435.6487 rmse=20.8722 r2=-0.7432\n",
      "Iteration 5:mae=18.0157 mse=579.5194 rmse=24.0732 r2=-0.3723\n",
      "Global: mae=16.1210 mse=494.3830 rmse=22.2086 r2=-0.6070\n",
      "\n",
      "Start training models of Random Forest 3\n",
      "Iteration 1:mae=12.0522 mse=237.2646 rmse=15.4034 r2=0.1996\n",
      "Iteration 2:mae=12.1381 mse=231.1129 rmse=15.2024 r2=-0.1425\n",
      "Iteration 3:mae=14.2956 mse=398.8667 rmse=19.9716 r2=0.2430\n",
      "Iteration 4:mae=11.3914 mse=238.6389 rmse=15.4479 r2=0.0451\n",
      "Iteration 5:mae=13.6216 mse=336.8801 rmse=18.3543 r2=0.2023\n",
      "Global: mae=12.6998 mse=288.5526 rmse=16.8759 r2=0.1095\n",
      "\n",
      "Start training models of KNN 3\n",
      "Iteration 1:mae=11.9313 mse=227.3366 rmse=15.0777 r2=0.2330\n",
      "Iteration 2:mae=12.2272 mse=252.2628 rmse=15.8828 r2=-0.2470\n",
      "Iteration 3:mae=15.2530 mse=460.8271 rmse=21.4669 r2=0.1254\n",
      "Iteration 4:mae=11.7098 mse=250.3524 rmse=15.8225 r2=-0.0018\n",
      "Iteration 5:mae=14.5573 mse=383.6579 rmse=19.5872 r2=0.0915\n",
      "Global: mae=13.1357 mse=314.8874 rmse=17.5674 r2=0.0402\n",
      "\n"
     ]
    }
   ],
   "source": [
    "\n",
    "models = {\"Linear Regression 3\":LinearRegression(), \\\n",
    "          \"Decision Tree 3 \": DecisionTreeRegressor(), \\\n",
    "          \"Random Forest 3\": RandomForestRegressor(n_estimators=100), \\\n",
    "          \"KNN 3\": KNeighborsRegressor(n_neighbors=5)}\n",
    "j=8\n",
    "for name in models:\n",
    "    print(\"Start training models of {}\".format(name))\n",
    "    k = 5\n",
    "    kf = KFold(n_splits=k)\n",
    "    precisions = []\n",
    "    i = 0\n",
    "    mae_global = []\n",
    "    mse_global = []\n",
    "    rmse_global = []\n",
    "    r2_global = []\n",
    "    \n",
    "    for train, test in kf.split(x):\n",
    "        i+=1\n",
    "        x_train, x_test = x[train], x[test]\n",
    "        y_train, y_test = y[train], y[test]\n",
    "        model = models[name].fit(x_train,y_train)\n",
    "        y_out = model.predict(x_test)\n",
    "\n",
    "        mae = mean_absolute_error(y_test, y_out)\n",
    "        mse = mean_squared_error(y_test, y_out)\n",
    "        rmse = mean_squared_error(y_test, y_out, squared=False)\n",
    "        r2 = r2_score(y_test, y_out)\n",
    "        ...\n",
    "        \n",
    "        mae_global.append(mae)\n",
    "        mse_global.append(mse)\n",
    "        rmse_global.append(rmse)\n",
    "        r2_global.append(r2)\n",
    "        \n",
    "        results2.loc[j] = [name, np.average(mse_global), np.average(rmse_global), np.average(mae_global), np.average(r2_global)]\n",
    "        \n",
    "        print(\"Iteration {}:mae={:.4f} mse={:.4f} rmse={:.4f} r2={:.4f}\".format(i, mae, mse, rmse, r2))\n",
    "    j+=1\n",
    "    print(\"Global: mae={:.4f} mse={:.4f} rmse={:.4f} r2={:.4f}\\n\".format(np.average(mae_global), np.average(mse_global), np.average(rmse_global), np.average(r2_global)))"
   ]
  },
  {
   "cell_type": "code",
   "execution_count": 74,
   "metadata": {},
   "outputs": [
    {
     "data": {
      "text/html": [
       "<div>\n",
       "<style scoped>\n",
       "    .dataframe tbody tr th:only-of-type {\n",
       "        vertical-align: middle;\n",
       "    }\n",
       "\n",
       "    .dataframe tbody tr th {\n",
       "        vertical-align: top;\n",
       "    }\n",
       "\n",
       "    .dataframe thead th {\n",
       "        text-align: right;\n",
       "    }\n",
       "</style>\n",
       "<table border=\"1\" class=\"dataframe\">\n",
       "  <thead>\n",
       "    <tr style=\"text-align: right;\">\n",
       "      <th></th>\n",
       "      <th>Model</th>\n",
       "      <th>MSE</th>\n",
       "      <th>RMSE</th>\n",
       "      <th>MAE</th>\n",
       "      <th>R2</th>\n",
       "    </tr>\n",
       "  </thead>\n",
       "  <tbody>\n",
       "    <tr>\n",
       "      <th>0</th>\n",
       "      <td>Linear regresion 1</td>\n",
       "      <td>194.192625</td>\n",
       "      <td>13.935301</td>\n",
       "      <td>10.801251</td>\n",
       "      <td>0.292345</td>\n",
       "    </tr>\n",
       "    <tr>\n",
       "      <th>1</th>\n",
       "      <td>Decision Tree 1</td>\n",
       "      <td>416.617717</td>\n",
       "      <td>20.411215</td>\n",
       "      <td>15.566142</td>\n",
       "      <td>-0.518191</td>\n",
       "    </tr>\n",
       "    <tr>\n",
       "      <th>2</th>\n",
       "      <td>Random Forest 1</td>\n",
       "      <td>231.527121</td>\n",
       "      <td>15.216015</td>\n",
       "      <td>11.925079</td>\n",
       "      <td>0.156295</td>\n",
       "    </tr>\n",
       "    <tr>\n",
       "      <th>3</th>\n",
       "      <td>KNN 1</td>\n",
       "      <td>253.213389</td>\n",
       "      <td>15.912680</td>\n",
       "      <td>12.071433</td>\n",
       "      <td>0.077268</td>\n",
       "    </tr>\n",
       "    <tr>\n",
       "      <th>4</th>\n",
       "      <td>Linear regresion 2</td>\n",
       "      <td>273.013315</td>\n",
       "      <td>16.421167</td>\n",
       "      <td>12.471180</td>\n",
       "      <td>0.213844</td>\n",
       "    </tr>\n",
       "    <tr>\n",
       "      <th>5</th>\n",
       "      <td>Decision Tree 2</td>\n",
       "      <td>495.833599</td>\n",
       "      <td>22.593530</td>\n",
       "      <td>16.540974</td>\n",
       "      <td>0.545355</td>\n",
       "    </tr>\n",
       "    <tr>\n",
       "      <th>6</th>\n",
       "      <td>Random Forest 2</td>\n",
       "      <td>289.301363</td>\n",
       "      <td>17.094604</td>\n",
       "      <td>12.628056</td>\n",
       "      <td>0.143619</td>\n",
       "    </tr>\n",
       "    <tr>\n",
       "      <th>7</th>\n",
       "      <td>KNN 2</td>\n",
       "      <td>315.150803</td>\n",
       "      <td>17.644022</td>\n",
       "      <td>13.145371</td>\n",
       "      <td>0.092622</td>\n",
       "    </tr>\n",
       "    <tr>\n",
       "      <th>8</th>\n",
       "      <td>Linear Regression 3</td>\n",
       "      <td>274.988174</td>\n",
       "      <td>16.366780</td>\n",
       "      <td>12.487079</td>\n",
       "      <td>0.178003</td>\n",
       "    </tr>\n",
       "    <tr>\n",
       "      <th>9</th>\n",
       "      <td>Decision Tree 3</td>\n",
       "      <td>494.382998</td>\n",
       "      <td>22.208569</td>\n",
       "      <td>16.121039</td>\n",
       "      <td>-0.606980</td>\n",
       "    </tr>\n",
       "    <tr>\n",
       "      <th>10</th>\n",
       "      <td>Random Forest 3</td>\n",
       "      <td>288.552639</td>\n",
       "      <td>16.875935</td>\n",
       "      <td>12.699796</td>\n",
       "      <td>0.109489</td>\n",
       "    </tr>\n",
       "    <tr>\n",
       "      <th>11</th>\n",
       "      <td>KNN 3</td>\n",
       "      <td>314.887360</td>\n",
       "      <td>17.567414</td>\n",
       "      <td>13.135723</td>\n",
       "      <td>0.040231</td>\n",
       "    </tr>\n",
       "  </tbody>\n",
       "</table>\n",
       "</div>"
      ],
      "text/plain": [
       "                  Model         MSE       RMSE        MAE        R2\n",
       "0    Linear regresion 1  194.192625  13.935301  10.801251  0.292345\n",
       "1       Decision Tree 1  416.617717  20.411215  15.566142 -0.518191\n",
       "2       Random Forest 1  231.527121  15.216015  11.925079  0.156295\n",
       "3                 KNN 1  253.213389  15.912680  12.071433  0.077268\n",
       "4    Linear regresion 2  273.013315  16.421167  12.471180  0.213844\n",
       "5       Decision Tree 2  495.833599  22.593530  16.540974  0.545355\n",
       "6       Random Forest 2  289.301363  17.094604  12.628056  0.143619\n",
       "7                 KNN 2  315.150803  17.644022  13.145371  0.092622\n",
       "8   Linear Regression 3  274.988174  16.366780  12.487079  0.178003\n",
       "9      Decision Tree 3   494.382998  22.208569  16.121039 -0.606980\n",
       "10      Random Forest 3  288.552639  16.875935  12.699796  0.109489\n",
       "11                KNN 3  314.887360  17.567414  13.135723  0.040231"
      ]
     },
     "execution_count": 74,
     "metadata": {},
     "output_type": "execute_result"
    }
   ],
   "source": [
    "results2"
   ]
  },
  {
   "cell_type": "code",
   "execution_count": 97,
   "metadata": {},
   "outputs": [
    {
     "data": {
      "text/plain": [
       "([None,\n",
       "  None,\n",
       "  None,\n",
       "  None,\n",
       "  None,\n",
       "  None,\n",
       "  None,\n",
       "  None,\n",
       "  None,\n",
       "  None,\n",
       "  None,\n",
       "  None,\n",
       "  None,\n",
       "  None,\n",
       "  None,\n",
       "  None,\n",
       "  None,\n",
       "  None,\n",
       "  None,\n",
       "  None,\n",
       "  None,\n",
       "  None,\n",
       "  None,\n",
       "  None,\n",
       "  None,\n",
       "  None],\n",
       " None)"
      ]
     },
     "execution_count": 97,
     "metadata": {},
     "output_type": "execute_result"
    },
    {
     "data": {
      "image/png": "[encoded data removed]",
      "text/plain": [
       "<Figure size 720x720 with 1 Axes>"
      ]
     },
     "metadata": {},
     "output_type": "display_data"
    }
   ],
   "source": [
    "import seaborn as sns\n",
    "x, y, hue = 'MAE', 'RMSE', 'Model'\n",
    "#plt.rcParams['figure.figsize']=(10,10)\n",
    "#sns.set_style(\"white\"), sns.set_style(\"ticks\")\n",
    "ax = sns.scatterplot(x= x, y=y, data = results2, hue = hue, palette=\"husl\", s=200, legend=\"brief\")\n",
    "#ax.set_xlabel(x,fontsize=20), ax.set_ylabel(y,fontsize=20) \n",
    "ax.set(ylim=(13, 23), xlim=(10,17)) \n",
    "plt.setp(ax.get_legend().get_texts(), fontsize='15'), sns.despine()"
   ]
  },
  {
   "cell_type": "code",
   "execution_count": null,
   "metadata": {},
   "outputs": [],
   "source": []
  }
 ],
 "metadata": {
  "kernelspec": {
   "display_name": "Python 3",
   "language": "python",
   "name": "python3"
  },
  "language_info": {
   "codemirror_mode": {
    "name": "ipython",
    "version": 3
   },
   "file_extension": ".py",
   "mimetype": "text/x-python",
   "name": "python",
   "nbconvert_exporter": "python",
   "pygments_lexer": "ipython3",
   "version": "3.8.3"
  }
 },
 "nbformat": 4,
 "nbformat_minor": 4
}
