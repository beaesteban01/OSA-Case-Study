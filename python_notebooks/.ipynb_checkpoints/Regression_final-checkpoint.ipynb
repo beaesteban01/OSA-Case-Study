{
 "cells": [
  {
   "cell_type": "code",
   "execution_count": 1,
   "metadata": {},
   "outputs": [],
   "source": [
    "import pandas as pd\n",
    "import numpy as np\n",
    "\n",
    "file = '../../../DATA/OSA_python.xlsx'\n",
    "data = pd.read_excel(file)\n",
    "df = pd.DataFrame(data)"
   ]
  },
  {
   "cell_type": "code",
   "execution_count": 2,
   "metadata": {},
   "outputs": [
    {
     "data": {
      "text/html": [
       "<div>\n",
       "<style scoped>\n",
       "    .dataframe tbody tr th:only-of-type {\n",
       "        vertical-align: middle;\n",
       "    }\n",
       "\n",
       "    .dataframe tbody tr th {\n",
       "        vertical-align: top;\n",
       "    }\n",
       "\n",
       "    .dataframe thead th {\n",
       "        text-align: right;\n",
       "    }\n",
       "</style>\n",
       "<table border=\"1\" class=\"dataframe\">\n",
       "  <thead>\n",
       "    <tr style=\"text-align: right;\">\n",
       "      <th></th>\n",
       "      <th>Gender</th>\n",
       "      <th>IAH</th>\n",
       "      <th>Weight</th>\n",
       "      <th>Height</th>\n",
       "      <th>Age</th>\n",
       "      <th>Cervical</th>\n",
       "      <th>BMI</th>\n",
       "    </tr>\n",
       "    <tr>\n",
       "      <th>Patient</th>\n",
       "      <th></th>\n",
       "      <th></th>\n",
       "      <th></th>\n",
       "      <th></th>\n",
       "      <th></th>\n",
       "      <th></th>\n",
       "      <th></th>\n",
       "    </tr>\n",
       "  </thead>\n",
       "  <tbody>\n",
       "    <tr>\n",
       "      <th>P0002</th>\n",
       "      <td>1</td>\n",
       "      <td>29.6</td>\n",
       "      <td>119</td>\n",
       "      <td>174</td>\n",
       "      <td>56</td>\n",
       "      <td>48.0</td>\n",
       "      <td>0.003931</td>\n",
       "    </tr>\n",
       "    <tr>\n",
       "      <th>P0004</th>\n",
       "      <td>1</td>\n",
       "      <td>19.7</td>\n",
       "      <td>78</td>\n",
       "      <td>168</td>\n",
       "      <td>39</td>\n",
       "      <td>42.0</td>\n",
       "      <td>0.002764</td>\n",
       "    </tr>\n",
       "    <tr>\n",
       "      <th>P0005</th>\n",
       "      <td>1</td>\n",
       "      <td>9.0</td>\n",
       "      <td>80</td>\n",
       "      <td>173</td>\n",
       "      <td>32</td>\n",
       "      <td>40.0</td>\n",
       "      <td>0.002673</td>\n",
       "    </tr>\n",
       "    <tr>\n",
       "      <th>P0006</th>\n",
       "      <td>1</td>\n",
       "      <td>2.0</td>\n",
       "      <td>109</td>\n",
       "      <td>190</td>\n",
       "      <td>32</td>\n",
       "      <td>42.0</td>\n",
       "      <td>0.003019</td>\n",
       "    </tr>\n",
       "    <tr>\n",
       "      <th>P0007</th>\n",
       "      <td>1</td>\n",
       "      <td>34.0</td>\n",
       "      <td>86</td>\n",
       "      <td>169</td>\n",
       "      <td>39</td>\n",
       "      <td>42.0</td>\n",
       "      <td>0.003011</td>\n",
       "    </tr>\n",
       "  </tbody>\n",
       "</table>\n",
       "</div>"
      ],
      "text/plain": [
       "         Gender   IAH  Weight  Height  Age  Cervical       BMI\n",
       "Patient                                                       \n",
       "P0002         1  29.6     119     174   56      48.0  0.003931\n",
       "P0004         1  19.7      78     168   39      42.0  0.002764\n",
       "P0005         1   9.0      80     173   32      40.0  0.002673\n",
       "P0006         1   2.0     109     190   32      42.0  0.003019\n",
       "P0007         1  34.0      86     169   39      42.0  0.003011"
      ]
     },
     "execution_count": 2,
     "metadata": {},
     "output_type": "execute_result"
    }
   ],
   "source": [
    "df.set_index('Patient', inplace=True)\n",
    "df.head()"
   ]
  },
  {
   "cell_type": "code",
   "execution_count": 5,
   "metadata": {},
   "outputs": [],
   "source": [
    "#features \n",
    "predictors = ['Gender', 'Weight', 'Height', 'Age', 'Cervical', 'BMI']\n",
    "x = df[predictors]\n",
    "y = df['IAH']"
   ]
  },
  {
   "cell_type": "markdown",
   "metadata": {},
   "source": [
    "# Fittings "
   ]
  },
  {
   "cell_type": "code",
   "execution_count": null,
   "metadata": {},
   "outputs": [],
   "source": [
    "import sklearn\n",
    "import matplotlib.pyplot as plt\n",
    "\n",
    "from sklearn import datasets\n",
    "\n",
    "#LINEAR REGRESSION\n",
    "from sklearn.linear_model import LinearRegression\n",
    "x, y = datasets.make_regression(n_samples=30, n_features=1, noise=10)\n",
    "\n",
    "y=y**2\n",
    "model = LinearRegression().fit(x,y)\n",
    "plt.figure(figsize=(9, 8))\n",
    "plt.scatter(x, y)\n",
    "plt.plot(x,model.predict(x), \"g\")\n",
    "plt.show()"
   ]
  },
  {
   "cell_type": "code",
   "execution_count": null,
   "metadata": {},
   "outputs": [],
   "source": [
    "#DECISION TREE\n",
    "from sklearn.tree import DecisionTreeRegressor\n",
    "x_test= np.linspace(x.min(),x.max(), 100)[:, np.newaxis]\n",
    "\n",
    "model = DecisionTreeRegressor().fit(x,y)\n",
    "plt.figure(figsize=(9, 8))\n",
    "plt.scatter(x, y)\n",
    "plt.plot(x_test ,model.predict(x_test), \"g\")\n",
    "plt.show()"
   ]
  },
  {
   "cell_type": "code",
   "execution_count": null,
   "metadata": {},
   "outputs": [],
   "source": [
    "#RANDOM FOREST\n",
    "from sklearn.ensemble import RandomForestRegressor\n",
    "\n",
    "model = RandomForestRegressor(n_estimators=100).fit(x,y)\n",
    "plt.figure(figsize=(9, 8))\n",
    "plt.scatter(x, y)\n",
    "plt.plot(x_test ,model.predict(x_test), \"g\")\n",
    "plt.show()"
   ]
  },
  {
   "cell_type": "code",
   "execution_count": null,
   "metadata": {},
   "outputs": [],
   "source": [
    "#KNN\n",
    "from sklearn.neighbors import KNeighborsRegressor\n",
    "\n",
    "model = KNeighborsRegressor(n_neighbors=5).fit(x,y)\n",
    "plt.figure(figsize=(9, 8))\n",
    "plt.scatter(x, y)\n",
    "plt.plot(x_test ,model.predict(x_test), \"g\")\n",
    "plt.show()"
   ]
  },
  {
   "cell_type": "markdown",
   "metadata": {},
   "source": [
    "# Add cross-validation "
   ]
  },
  {
   "cell_type": "code",
   "execution_count": 28,
   "metadata": {},
   "outputs": [],
   "source": [
    "import sklearn\n",
    "import matplotlib.pyplot as plt\n",
    "from sklearn.metrics import  mean_absolute_error, mean_squared_error, max_error, r2_score\n",
    "from sklearn import model_selection\n",
    "from sklearn import datasets\n",
    "from sklearn import linear_model\n",
    "\n",
    "x_train, x_test, y_train, y_test = model_selection.train_test_split(x, y, test_size= 0.2)\n"
   ]
  },
  {
   "cell_type": "markdown",
   "metadata": {},
   "source": [
    "## LINEAR REGRESSION"
   ]
  },
  {
   "cell_type": "code",
   "execution_count": 90,
   "metadata": {},
   "outputs": [],
   "source": [
    "from sklearn.linear_model import LinearRegression\n",
    "model_linear = linear_model.LinearRegression().fit(x_train,y_train)"
   ]
  },
  {
   "cell_type": "code",
   "execution_count": 91,
   "metadata": {},
   "outputs": [],
   "source": [
    "from sklearn.model_selection import cross_val_predict, cross_val_score\n",
    "y_out_linear = cross_val_predict(model_linear, x_test, y_test, cv = 3)"
   ]
  },
  {
   "cell_type": "code",
   "execution_count": 92,
   "metadata": {},
   "outputs": [
    {
     "name": "stdout",
     "output_type": "stream",
     "text": [
      "MSE:  258.29095748031494\n",
      "RMSE:  16.07143296287904\n",
      "MAE:  12.853385826771655\n",
      "R2 score:  0.13672453415667174\n",
      "MSE cross validated:  248.78757619566105\n",
      "RMSE cross validated:  15.759750148286335\n",
      "MAE cross validated:  12.625325635900467\n",
      "R2 score cross validated:  0.15814487733830032\n"
     ]
    }
   ],
   "source": [
    "mse_lin = mean_squared_error(y_test, y_out_linear)\n",
    "rmse_lin =  mean_squared_error(y_test, y_out_linear, squared=False)\n",
    "mae_lin = mean_absolute_error(y_test, y_out_linear)\n",
    "r2_lin = r2_score(y_test, y_out_linear)\n",
    "\n",
    "mse_cross = cross_val_score(model_linear, x_test, y_test, cv = 3, scoring = 'neg_mean_squared_error')\n",
    "rmse_cross = cross_val_score(model_linear, x_test, y_test, cv = 3, scoring = 'neg_root_mean_squared_error')\n",
    "mae_cross = cross_val_score(model_linear, x_test, y_test, cv = 3, scoring = 'neg_mean_absolute_error')\n",
    "r2_cross = cross_val_score(model_linear, x_test, y_test, cv = 3, scoring = 'r2')\n",
    "\n",
    "print(\"MSE: \",mse)\n",
    "print(\"RMSE: \",rmse)\n",
    "print(\"MAE: \",mae)\n",
    "print(\"R2 score: \",r2)\n",
    "\n",
    "print(\"MSE cross validated: \",abs(mse_cross.mean()))\n",
    "print(\"RMSE cross validated: \",abs(rmse_cross.mean()))\n",
    "print(\"MAE cross validated: \",abs(mae_cross.mean()))\n",
    "print(\"R2 score cross validated: \",r2_cross.mean())"
   ]
  },
  {
   "cell_type": "code",
   "execution_count": 95,
   "metadata": {},
   "outputs": [
    {
     "data": {
      "image/png": "[encoded data removed]",
      "text/plain": [
       "<Figure size 432x288 with 1 Axes>"
      ]
     },
     "metadata": {
      "needs_background": "light"
     },
     "output_type": "display_data"
    },
    {
     "data": {
      "text/plain": [
       "<Figure size 432x288 with 0 Axes>"
      ]
     },
     "metadata": {},
     "output_type": "display_data"
    }
   ],
   "source": [
    "fig, ax = plt.subplots()\n",
    "ax.scatter(y_test, y_out_linear, c  = '#8DD657')\n",
    "ax.plot([y_test.min(), y_test.max()], [y_test.min(), y_test.max()], 'k--', lw=4)\n",
    "ax.set_xlabel('Measured')\n",
    "ax.set_ylabel('Predicted')\n",
    "plt.title('Prediction errors with Linear Regression')\n",
    "plt.show()\n",
    "\n"
   ]
  },
  {
   "cell_type": "markdown",
   "metadata": {},
   "source": [
    "## Decision tree"
   ]
  },
  {
   "cell_type": "code",
   "execution_count": 61,
   "metadata": {},
   "outputs": [],
   "source": [
    "from sklearn.tree import DecisionTreeRegressor\n",
    "model_tree = DecisionTreeRegressor().fit(x_train, y_train)"
   ]
  },
  {
   "cell_type": "code",
   "execution_count": 64,
   "metadata": {},
   "outputs": [
    {
     "data": {
      "image/png": "[encoded data removed]",
      "text/plain": [
       "<Figure size 432x288 with 1 Axes>"
      ]
     },
     "metadata": {
      "needs_background": "light"
     },
     "output_type": "display_data"
    }
   ],
   "source": [
    "y_out_tree = cross_val_predict(model_tree, x_test, y_test, cv = 3)\n",
    "\n",
    "fig, ax = plt.subplots()\n",
    "ax.scatter(y_test, y_out_tree, c  = '#8DD657')\n",
    "ax.plot([y_test.min(), y_test.max()], [y_test.min(), y_test.max()], 'k--', lw=4)\n",
    "ax.set_xlabel('Measured')\n",
    "ax.set_ylabel('Predicted')\n",
    "plt.title('Prediction errors with Decision Tree')\n",
    "plt.show()\n"
   ]
  },
  {
   "cell_type": "code",
   "execution_count": 76,
   "metadata": {},
   "outputs": [
    {
     "name": "stdout",
     "output_type": "stream",
     "text": [
      "MSE:  258.29095748031494\n",
      "RMSE:  16.07143296287904\n",
      "MAE:  12.853385826771655\n",
      "R2 score:  0.13672453415667174\n",
      "MSE cross validated:  332.9579789590254\n",
      "RMSE cross validated:  18.670883128981544\n",
      "MAE cross validated:  13.351513473606497\n",
      "R2 score cross validated:  -0.15875105310001233\n"
     ]
    }
   ],
   "source": [
    "mse_tree = mean_squared_error(y_test, y_out_tree)\n",
    "rmse_tree =  mean_squared_error(y_test, y_out_tree, squared=False)\n",
    "mae_tree = mean_absolute_error(y_test, y_out_tree)\n",
    "r2_tree = r2_score(y_test, y_out_tree)\n",
    "\n",
    "mse_cross = cross_val_score(model_tree, x_test, y_test, cv = 3, scoring = 'neg_mean_squared_error')\n",
    "rmse_cross = cross_val_score(model_tree, x_test, y_test, cv = 3, scoring = 'neg_root_mean_squared_error')\n",
    "mae_cross = cross_val_score(model_tree, x_test, y_test, cv = 3, scoring = 'neg_mean_absolute_error')\n",
    "r2_cross = cross_val_score(model_tree, x_test, y_test, cv = 3, scoring = 'r2')\n",
    "\n",
    "print(\"MSE: \",mse)\n",
    "print(\"RMSE: \",rmse)\n",
    "print(\"MAE: \",mae)\n",
    "print(\"R2 score: \",r2)\n",
    "\n",
    "print(\"MSE cross validated: \",abs(mse_cross.mean()))\n",
    "print(\"RMSE cross validated: \",abs(rmse_cross.mean()))\n",
    "print(\"MAE cross validated: \",abs(mae_cross.mean()))\n",
    "print(\"R2 score cross validated: \",r2_cross.mean())"
   ]
  },
  {
   "cell_type": "markdown",
   "metadata": {},
   "source": [
    "## Random forest"
   ]
  },
  {
   "cell_type": "code",
   "execution_count": 67,
   "metadata": {},
   "outputs": [
    {
     "data": {
      "image/png": "[encoded data removed]",
      "text/plain": [
       "<Figure size 432x288 with 1 Axes>"
      ]
     },
     "metadata": {
      "needs_background": "light"
     },
     "output_type": "display_data"
    }
   ],
   "source": [
    "from sklearn.ensemble import RandomForestRegressor\n",
    "\n",
    "model_forest = RandomForestRegressor().fit(x_train, y_train)\n",
    "\n",
    "y_out_forest = cross_val_predict(model_forest, x_test, y_test, cv = 3)\n",
    "\n",
    "fig, ax = plt.subplots()\n",
    "ax.scatter(y_test, y_out_forest, c  = '#8DD657')\n",
    "ax.plot([y_test.min(), y_test.max()], [y_test.min(), y_test.max()], 'k--', lw=4)\n",
    "ax.set_xlabel('Measured')\n",
    "ax.set_ylabel('Predicted')\n",
    "plt.title('Prediction errors with Random Forest')\n",
    "plt.show()\n",
    "\n"
   ]
  },
  {
   "cell_type": "code",
   "execution_count": 77,
   "metadata": {},
   "outputs": [
    {
     "name": "stdout",
     "output_type": "stream",
     "text": [
      "MSE:  258.29095748031494\n",
      "RMSE:  16.07143296287904\n",
      "MAE:  12.853385826771655\n",
      "R2 score:  0.13672453415667174\n",
      "MSE cross validated:  210.7118735747508\n",
      "RMSE cross validated:  14.407255694769765\n",
      "MAE cross validated:  11.544967700258397\n",
      "R2 score cross validated:  0.32133817426287226\n"
     ]
    }
   ],
   "source": [
    "mse_for = mean_squared_error(y_test, y_out_forest)\n",
    "rmse_for =  mean_squared_error(y_test, y_out_forest, squared=False)\n",
    "mae_for = mean_absolute_error(y_test, y_out_forest)\n",
    "r2_for = r2_score(y_test, y_out_forest)\n",
    "\n",
    "mse_cross = cross_val_score(model_forest, x_test, y_test, cv = 3, scoring = 'neg_mean_squared_error')\n",
    "rmse_cross = cross_val_score(model_forest, x_test, y_test, cv = 3, scoring = 'neg_root_mean_squared_error')\n",
    "mae_cross = cross_val_score(model_forest, x_test, y_test, cv = 3, scoring = 'neg_mean_absolute_error')\n",
    "r2_cross = cross_val_score(model_forest, x_test, y_test, cv = 3, scoring = 'r2')\n",
    "\n",
    "print(\"MSE: \",mse)\n",
    "print(\"RMSE: \",rmse)\n",
    "print(\"MAE: \",mae)\n",
    "print(\"R2 score: \",r2)\n",
    "\n",
    "print(\"MSE cross validated: \",abs(mse_cross.mean()))\n",
    "print(\"RMSE cross validated: \",abs(rmse_cross.mean()))\n",
    "print(\"MAE cross validated: \",abs(mae_cross.mean()))\n",
    "print(\"R2 score cross validated: \",r2_cross.mean())"
   ]
  },
  {
   "cell_type": "raw",
   "metadata": {},
   "source": [
    "## K Nearest Neighbors"
   ]
  },
  {
   "cell_type": "code",
   "execution_count": 68,
   "metadata": {},
   "outputs": [
    {
     "data": {
      "image/png": "[encoded data removed]",
      "text/plain": [
       "<Figure size 432x288 with 1 Axes>"
      ]
     },
     "metadata": {
      "needs_background": "light"
     },
     "output_type": "display_data"
    }
   ],
   "source": [
    "from sklearn.neighbors import KNeighborsRegressor\n",
    "\n",
    "model_knn = KNeighborsRegressor().fit(x_train, y_train)\n",
    "\n",
    "y_out_knn = cross_val_predict(model_knn, x_test, y_test, cv = 3)\n",
    "\n",
    "fig, ax = plt.subplots()\n",
    "ax.scatter(y_test, y_out_knn, c  = '#8DD657')\n",
    "ax.plot([y_test.min(), y_test.max()], [y_test.min(), y_test.max()], 'k--', lw=4)\n",
    "ax.set_xlabel('Measured')\n",
    "ax.set_ylabel('Predicted')\n",
    "plt.title('Prediction errors with KNN')\n",
    "plt.show()"
   ]
  },
  {
   "cell_type": "code",
   "execution_count": 78,
   "metadata": {},
   "outputs": [
    {
     "name": "stdout",
     "output_type": "stream",
     "text": [
      "MSE:  258.29095748031494\n",
      "RMSE:  16.07143296287904\n",
      "MAE:  12.853385826771655\n",
      "R2 score:  0.13672453415667174\n",
      "MSE cross validated:  257.86047124400153\n",
      "RMSE cross validated:  16.01388560195553\n",
      "MAE cross validated:  12.843983019564414\n",
      "R2 score cross validated:  0.1314446080814874\n"
     ]
    }
   ],
   "source": [
    "mse_knn = mean_squared_error(y_test, y_out_knn)\n",
    "rmse_knn =  mean_squared_error(y_test, y_out_knn, squared=False)\n",
    "mae_knn = mean_absolute_error(y_test, y_out_knn)\n",
    "r2_knn = r2_score(y_test, y_out_knn)\n",
    "\n",
    "mse_cross = cross_val_score(model_knn, x_test, y_test, cv = 3, scoring = 'neg_mean_squared_error')\n",
    "rmse_cross = cross_val_score(model_knn, x_test, y_test, cv = 3, scoring = 'neg_root_mean_squared_error')\n",
    "mae_cross = cross_val_score(model_knn, x_test, y_test, cv = 3, scoring = 'neg_mean_absolute_error')\n",
    "r2_cross = cross_val_score(model_knn, x_test, y_test, cv = 3, scoring = 'r2')\n",
    "\n",
    "print(\"MSE: \",mse)\n",
    "print(\"RMSE: \",rmse)\n",
    "print(\"MAE: \",mae)\n",
    "print(\"R2 score: \",r2)\n",
    "\n",
    "print(\"MSE cross validated: \",abs(mse_cross.mean()))\n",
    "print(\"RMSE cross validated: \",abs(rmse_cross.mean()))\n",
    "print(\"MAE cross validated: \",abs(mae_cross.mean()))\n",
    "print(\"R2 score cross validated: \",r2_cross.mean())"
   ]
  },
  {
   "cell_type": "code",
   "execution_count": 72,
   "metadata": {},
   "outputs": [],
   "source": [
    "results = pd.DataFrame(columns=['Model', 'MSE', 'RMSE', 'MAE', 'R2'], index=['Linear regresion', 'Decision Tree', 'Random Forest', 'KNN'])"
   ]
  },
  {
   "cell_type": "code",
   "execution_count": 74,
   "metadata": {},
   "outputs": [
    {
     "data": {
      "text/html": [
       "<div>\n",
       "<style scoped>\n",
       "    .dataframe tbody tr th:only-of-type {\n",
       "        vertical-align: middle;\n",
       "    }\n",
       "\n",
       "    .dataframe tbody tr th {\n",
       "        vertical-align: top;\n",
       "    }\n",
       "\n",
       "    .dataframe thead th {\n",
       "        text-align: right;\n",
       "    }\n",
       "</style>\n",
       "<table border=\"1\" class=\"dataframe\">\n",
       "  <thead>\n",
       "    <tr style=\"text-align: right;\">\n",
       "      <th></th>\n",
       "      <th>MSE</th>\n",
       "      <th>RMSE</th>\n",
       "      <th>MAE</th>\n",
       "      <th>R2</th>\n",
       "    </tr>\n",
       "  </thead>\n",
       "  <tbody>\n",
       "    <tr>\n",
       "      <th>Linear regresion</th>\n",
       "      <td>NaN</td>\n",
       "      <td>NaN</td>\n",
       "      <td>NaN</td>\n",
       "      <td>NaN</td>\n",
       "    </tr>\n",
       "    <tr>\n",
       "      <th>Decision Tree</th>\n",
       "      <td>NaN</td>\n",
       "      <td>NaN</td>\n",
       "      <td>NaN</td>\n",
       "      <td>NaN</td>\n",
       "    </tr>\n",
       "    <tr>\n",
       "      <th>Random Forest</th>\n",
       "      <td>NaN</td>\n",
       "      <td>NaN</td>\n",
       "      <td>NaN</td>\n",
       "      <td>NaN</td>\n",
       "    </tr>\n",
       "    <tr>\n",
       "      <th>KNN</th>\n",
       "      <td>NaN</td>\n",
       "      <td>NaN</td>\n",
       "      <td>NaN</td>\n",
       "      <td>NaN</td>\n",
       "    </tr>\n",
       "  </tbody>\n",
       "</table>\n",
       "</div>"
      ],
      "text/plain": [
       "                  MSE RMSE  MAE   R2\n",
       "Linear regresion  NaN  NaN  NaN  NaN\n",
       "Decision Tree     NaN  NaN  NaN  NaN\n",
       "Random Forest     NaN  NaN  NaN  NaN\n",
       "KNN               NaN  NaN  NaN  NaN"
      ]
     },
     "execution_count": 74,
     "metadata": {},
     "output_type": "execute_result"
    }
   ],
   "source": [
    "results "
   ]
  },
  {
   "cell_type": "code",
   "execution_count": 104,
   "metadata": {},
   "outputs": [],
   "source": [
    "results = pd.DataFrame({'Model': ['Linear regresion', 'Decision Tree', 'Random Forest', 'KNN'],\n",
    "                        'MSE':   [mse_lin, mse_tree, mse_for, mse_knn],\n",
    "                'RMSE': [rmse_lin, rmse_tree, rmse_for, rmse_knn],\n",
    "                   'MAE': [mae_lin, mae_tree, mae_for, mae_knn],\n",
    "                   'R2': [r2_lin, r2_tree, r2_for, r2_knn]})"
   ]
  },
  {
   "cell_type": "code",
   "execution_count": 105,
   "metadata": {},
   "outputs": [
    {
     "data": {
      "text/html": [
       "<div>\n",
       "<style scoped>\n",
       "    .dataframe tbody tr th:only-of-type {\n",
       "        vertical-align: middle;\n",
       "    }\n",
       "\n",
       "    .dataframe tbody tr th {\n",
       "        vertical-align: top;\n",
       "    }\n",
       "\n",
       "    .dataframe thead th {\n",
       "        text-align: right;\n",
       "    }\n",
       "</style>\n",
       "<table border=\"1\" class=\"dataframe\">\n",
       "  <thead>\n",
       "    <tr style=\"text-align: right;\">\n",
       "      <th></th>\n",
       "      <th>Model</th>\n",
       "      <th>MSE</th>\n",
       "      <th>RMSE</th>\n",
       "      <th>MAE</th>\n",
       "      <th>R2</th>\n",
       "    </tr>\n",
       "  </thead>\n",
       "  <tbody>\n",
       "    <tr>\n",
       "      <th>0</th>\n",
       "      <td>Linear regresion</td>\n",
       "      <td>249.016192</td>\n",
       "      <td>15.780247</td>\n",
       "      <td>12.625224</td>\n",
       "      <td>0.167723</td>\n",
       "    </tr>\n",
       "    <tr>\n",
       "      <th>1</th>\n",
       "      <td>Decision Tree</td>\n",
       "      <td>350.925906</td>\n",
       "      <td>18.733016</td>\n",
       "      <td>13.868504</td>\n",
       "      <td>-0.172886</td>\n",
       "    </tr>\n",
       "    <tr>\n",
       "      <th>2</th>\n",
       "      <td>Random Forest</td>\n",
       "      <td>208.131897</td>\n",
       "      <td>14.426777</td>\n",
       "      <td>11.446252</td>\n",
       "      <td>0.304369</td>\n",
       "    </tr>\n",
       "    <tr>\n",
       "      <th>3</th>\n",
       "      <td>KNN</td>\n",
       "      <td>258.290957</td>\n",
       "      <td>16.071433</td>\n",
       "      <td>12.853386</td>\n",
       "      <td>0.136725</td>\n",
       "    </tr>\n",
       "  </tbody>\n",
       "</table>\n",
       "</div>"
      ],
      "text/plain": [
       "              Model         MSE       RMSE        MAE        R2\n",
       "0  Linear regresion  249.016192  15.780247  12.625224  0.167723\n",
       "1     Decision Tree  350.925906  18.733016  13.868504 -0.172886\n",
       "2     Random Forest  208.131897  14.426777  11.446252  0.304369\n",
       "3               KNN  258.290957  16.071433  12.853386  0.136725"
      ]
     },
     "execution_count": 105,
     "metadata": {},
     "output_type": "execute_result"
    }
   ],
   "source": [
    "results"
   ]
  },
  {
   "cell_type": "code",
   "execution_count": 117,
   "metadata": {},
   "outputs": [
    {
     "data": {
      "text/plain": [
       "([None, None, None, None, None, None, None, None, None, None], None)"
      ]
     },
     "execution_count": 117,
     "metadata": {},
     "output_type": "execute_result"
    },
    {
     "data": {
      "image/png": "[encoded data removed]",
      "text/plain": [
       "<Figure size 720x720 with 1 Axes>"
      ]
     },
     "metadata": {},
     "output_type": "display_data"
    }
   ],
   "source": [
    "import seaborn as sns\n",
    "x, y, hue = 'MAE', 'RMSE', 'Model'\n",
    "plt.rcParams['figure.figsize']=(10,10)\n",
    "sns.set_style(\"white\"), sns.set_style(\"ticks\")\n",
    "ax = sns.scatterplot(x= x, y=y, data = results, hue = hue, palette=\"Set2\", s=200)\n",
    "ax.set_xlabel(x,fontsize=20), ax.set_ylabel(y,fontsize=20) \n",
    "ax.set(ylim=(14, 19.5), xlim=(10,17)) \n",
    "plt.setp(ax.get_legend().get_texts(), fontsize='15'), sns.despine()"
   ]
  },
  {
   "cell_type": "markdown",
   "metadata": {},
   "source": [
    "# KFold crossvalidation"
   ]
  },
  {
   "cell_type": "code",
   "execution_count": 4,
   "metadata": {},
   "outputs": [],
   "source": [
    "#imports si no vamos a hacer lo de fittings\n",
    "import sklearn\n",
    "import matplotlib.pyplot as plt\n",
    "from sklearn.linear_model import LinearRegression\n",
    "from sklearn.tree import DecisionTreeRegressor\n",
    "from sklearn.ensemble import RandomForestRegressor\n",
    "from sklearn.neighbors import KNeighborsRegressor\n",
    "\n",
    "from sklearn.metrics import  mean_absolute_error, mean_squared_error, max_error, r2_score\n",
    "from sklearn import model_selection\n",
    "#from sklearn import datasets\n",
    "from sklearn.model_selection import KFold"
   ]
  },
  {
   "cell_type": "code",
   "execution_count": 11,
   "metadata": {},
   "outputs": [],
   "source": [
    "#features \n",
    "predictors = ['Gender', 'Weight', 'Height', 'Age', 'Cervical', 'BMI']\n",
    "x = df[predictors].values\n",
    "y = df['IAH'].values"
   ]
  },
  {
   "cell_type": "code",
   "execution_count": 12,
   "metadata": {},
   "outputs": [
    {
     "name": "stdout",
     "output_type": "stream",
     "text": [
      "[[1.00000000e+00 1.19000000e+02 1.74000000e+02 5.60000000e+01\n",
      "  4.80000000e+01 3.93050601e-03]\n",
      " [1.00000000e+00 7.80000000e+01 1.68000000e+02 3.90000000e+01\n",
      "  4.20000000e+01 2.76360544e-03]\n",
      " [1.00000000e+00 8.00000000e+01 1.73000000e+02 3.20000000e+01\n",
      "  4.00000000e+01 2.67299275e-03]\n",
      " ...\n",
      " [1.00000000e+00 9.00000000e+01 1.80000000e+02 5.00000000e+01\n",
      "  4.20000000e+01 2.77777778e-03]\n",
      " [2.00000000e+00 6.60000000e+01 1.64000000e+02 5.70000000e+01\n",
      "  3.50000000e+01 2.45389649e-03]\n",
      " [2.00000000e+00 7.00000000e+01 1.63000000e+02 6.00000000e+01\n",
      "  3.50000000e+01 2.63464940e-03]] [ 29.6   19.7    9.     2.    34.    60.    22.    11.     3.7    7.\n",
      "   5.    26.    22.    10.    15.     4.3   20.    56.     4.    53.6\n",
      "   2.1   27.    47.     5.9    9.    32.    11.    24.6   14.8   17.\n",
      "  31.5   43.    12.8   37.3    3.    19.3   34.    46.3   33.1   43.1\n",
      "  27.     0.    28.    28.3   32.     3.    69.    32.    38.6   31.\n",
      "  36.    34.     2.     5.    24.    13.7   40.     9.7   10.     0.\n",
      "  11.3    4.2   30.    36.3   11.     5.8    6.     7.9    3.8   42.3\n",
      "  15.5   35.     3.3   27.    22.     2.5    3.     8.4   11.8   43.36\n",
      "   6.4    1.2    6.3   30.     9.5    5.4    3.    11.    17.3    8.8\n",
      "   5.     2.2    6.3    9.5   10.9    6.5   14.5    8.7    9.6   23.7\n",
      "  87.     8.4   23.3    3.4    5.    24.3   60.    12.1    7.4   70.\n",
      "   5.4   10.9   11.6    2.1   44.7    1.4    3.7   11.3    8.3    4.8\n",
      "  52.3   20.    30.    25.8    3.4   35.     3.    10.6    8.4    0.\n",
      "   6.5   28.     7.2   29.    19.4    1.1    8.4   24.7   32.3   16.4\n",
      "   2.4   20.4    0.    35.7    7.3   15.4    8.8    8.    46.5   20.8\n",
      "  38.3    0.    35.1   20.     4.    15.2    4.     0.7    1.4   29.\n",
      "  14.3   13.1    3.6    5.9   10.3    0.    15.6   17.    19.8   59.6\n",
      "   6.     6.     2.3   20.    49.    14.    30.    20.    26.    22.\n",
      "  15.    45.    13.     6.     6.9   44.6    3.9   30.     8.9    2.1\n",
      "   2.4   26.4    4.8    2.6   22.3    8.1   19.    33.3   46.    37.\n",
      "  10.8    7.1    4.8   27.6   19.    15.2   50.9    9.2   58.5   35.\n",
      "   9.5   25.2   51.6    1.5   15.     9.3    1.3   37.9   14.     8.9\n",
      "  38.    27.3   14.1   15.     3.     6.1   11.6   48.7   40.8   32.\n",
      "  20.    21.7    4.2   24.8    3.     3.    12.6    8.    11.9   14.\n",
      "  13.5    5.5   10.8    2.     5.    10.6   31.    20.7   14.     3.4\n",
      "   9.    30.     3.5    2.     1.     8.     4.2   84.8   21.9    3.5\n",
      "   8.9   57.    13.    10.    29.6   40.9    3.6    1.9    4.3   35.\n",
      "   2.5    7.3    9.     9.6    3.2   21.4   50.     2.6   67.8   26.\n",
      "  40.     8.1   51.     6.6   25.3   33.     4.1    5.9  108.4   24.\n",
      "  34.    25.8    3.    11.    58.4   25.     9.    17.     2.     3.4\n",
      "  33.1   36.8   61.5   78.4   36.5    5.1   57.    29.1   23.6   11.\n",
      "  19.    15.     6.5   64.     5.8   74.    65.     4.    65.    76.5\n",
      "   0.    61.     6.    34.    43.    13.6   11.     5.3   11.4   43.\n",
      "  30.     0.    13.5   38.     0.     3.5    6.9   27.    25.2   28.9\n",
      "   0.8   15.9   27.8    2.1   12.6   11.     0.    21.    11.8   51.\n",
      "  21.4   17.2   74.    16.9   15.2   25.     6.9    8.7    8.4   71.3\n",
      "   0.    84.4   18.6    6.6    6.    24.5   11.7   24.    12.5   13.2\n",
      "   6.4   38.7   29.7   53.    16.8   10.1   51.9    7.5    0.    31.4\n",
      "  25.    18.6    0.    13.8   66.    21.7   32.    13.5    1.    17.8\n",
      "  53.     9.2    2.5   41.7   17.    11.    22.6    7.9    0.    20.\n",
      "  17.4   13.    12.    34.    19.3   34.3   37.    19.    19.4    0.\n",
      "  33.    20.2   48.1   11.7   37.6    5.7   24.    10.7   20.    19.\n",
      "   5.    21.9   17.    10.    15.8    9.2   10.    13.3   22.     0.\n",
      "  29.3    4.1   35.5   29.9    0.    35.9    4.4   10.6    4.6   22.5\n",
      "  15.     9.    29.     3.7    0.     7.6   10.9    0.     9.     4.1\n",
      "  44.8   10.7   30.     9.    16.3   10.     7.5   13.3   10.2   64.\n",
      "  39.6    3.9   54.    29.9   35.3   40.    42.2    0.    11.5   55.\n",
      "  22.6    7.    13.7    4.2    0.     4.4    9.5   13.2   32.5   54.5\n",
      "  14.    64.5   19.6    0.7    0.     1.8    8.    15.6   19.4    2.6\n",
      "   0.    35.7   11.2   37.3   45.9   24.9    6.1   44.7    7.    19.7\n",
      "   4.6    1.7   15.4   25.    13.5   45.     6.8   31.    61.1   74.3\n",
      "  27.6    2.6   14.4   31.8   23.4   63.1    1.4    9.9    7.2    6.9\n",
      "  13.3   36.     3.3   11.7   27.    31.     0.7   30.    30.     3.8\n",
      "  45.3   56.5   17.2   14.     6.    11.1   14.3   57.1    5.7   23.\n",
      "  20.7   34.    34.3   22.     0.     6.8   30.     2.8    0.     0.\n",
      "   7.5   15.    14.7   11.7   16.1   33.9   31.3    0.    22.5   10.\n",
      "  10.    27.     9.2   11.8   37.8   10.    35.2   40.    27.3   16.\n",
      "  42.3    1.8   24.7   11.7   31.1    0.   102.    10.4   44.7    2.8\n",
      "  50.    16.6   19.4   13.8   16.2    2.6   11.    36.     7.8   19.7\n",
      "  33.1    2.7   30.    17.8    0.    84.3    4.9    9.     0.4   45.7\n",
      "  20.3    2.1   21.3    9.6    6.1    0.    45.    22.    10.2    3.8\n",
      "  11.2    8.2   16.7   27.9    0.     8.8   15.    52.6   64.3   17.2\n",
      "   4.8   25.    41.5    2.7   57.   108.6    4.6   33.     4.7   27.9\n",
      "  36.3    9.2   52.2    5.4   31.9 ]\n"
     ]
    }
   ],
   "source": [
    "print(x, y)"
   ]
  },
  {
   "cell_type": "code",
   "execution_count": 15,
   "metadata": {},
   "outputs": [
    {
     "name": "stdout",
     "output_type": "stream",
     "text": [
      "Start training models of Linear Regression\n",
      "Iteration 1: me=45.7619 mae=11.7069 mse=206.0662 rmse=14.3550\n",
      "Iteration 2: me=39.8980 mae=11.3477 mse=196.7352 rmse=14.0262\n",
      "Iteration 3: me=84.5733 mae=14.5897 mse=427.4101 rmse=20.6739\n",
      "Iteration 4: me=40.7482 mae=11.3326 mse=208.8643 rmse=14.4521\n",
      "Iteration 5: me=86.5777 mae=13.4585 mse=335.8650 rmse=18.3266\n",
      "Global: me=12.4871 mae=12.4871 mse=274.9882 rmse=274.9882\n",
      "\n",
      "Start training models of Decision Tree\n",
      "Iteration 1: me=63.1000 mae=15.7391 mse=458.3835 rmse=21.4099\n",
      "Iteration 2: me=81.4000 mae=16.7926 mse=550.1675 rmse=23.4556\n",
      "Iteration 3: me=78.4000 mae=15.7425 mse=510.4928 rmse=22.5941\n",
      "Iteration 4: me=83.8000 mae=15.5299 mse=477.4516 rmse=21.8507\n",
      "Iteration 5: me=74.3000 mae=18.3213 mse=594.1233 rmse=24.3746\n",
      "Global: me=16.4251 mae=16.4251 mse=518.1237 rmse=518.1237\n",
      "\n",
      "Start training models of Random Forest\n",
      "Iteration 1: me=55.3200 mae=12.3591 mse=250.0186 rmse=15.8120\n",
      "Iteration 2: me=38.2810 mae=11.6603 mse=217.2185 rmse=14.7383\n",
      "Iteration 3: me=68.8070 mae=14.5120 mse=402.1598 rmse=20.0539\n",
      "Iteration 4: me=47.7590 mae=11.2149 mse=233.7631 rmse=15.2893\n",
      "Iteration 5: me=83.6050 mae=13.5790 mse=340.1380 rmse=18.4428\n",
      "Global: me=12.6650 mae=12.6650 mse=288.6596 rmse=288.6596\n",
      "\n",
      "Start training models of Nearest Neighbors\n",
      "Iteration 1: me=58.8600 mae=11.9313 mse=227.3366 rmse=15.0777\n",
      "Iteration 2: me=59.5000 mae=12.2272 mse=252.2628 rmse=15.8828\n",
      "Iteration 3: me=84.7600 mae=15.2530 mse=460.8271 rmse=21.4669\n",
      "Iteration 4: me=45.9600 mae=11.7098 mse=250.3524 rmse=15.8225\n",
      "Iteration 5: me=92.0400 mae=14.5573 mse=383.6579 rmse=19.5872\n",
      "Global: me=13.1357 mae=13.1357 mse=314.8874 rmse=314.8874\n",
      "\n"
     ]
    }
   ],
   "source": [
    "\n",
    "models = {\"Linear Regression\":LinearRegression(), \\\n",
    "          \"Decision Tree\": DecisionTreeRegressor(), \\\n",
    "          \"Random Forest\": RandomForestRegressor(n_estimators=100), \\\n",
    "          \"Nearest Neighbors\": KNeighborsRegressor(n_neighbors=5)}\n",
    "\n",
    "\n",
    "for name in models:\n",
    "    print(\"Start training models of {}\".format(name))\n",
    "    k = 5\n",
    "    kf = KFold(n_splits=k)\n",
    "    precisions = []\n",
    "    i = 0\n",
    "    me_global = []\n",
    "    mae_global = []\n",
    "    mse_global = []\n",
    "    rmse_global = []\n",
    "    for train, test in kf.split(x):\n",
    "        i+=1\n",
    "        x_train, x_test = x[train], x[test]\n",
    "        y_train, y_test = y[train], y[test]\n",
    "        model = models[name].fit(x_train,y_train)\n",
    "        y_out = model.predict(x_test)\n",
    "        # We have to provide the real value of the target and the model's output\n",
    "        me = max_error(y_test, y_out)\n",
    "        mae = mean_absolute_error(y_test, y_out)\n",
    "        mse = mean_squared_error(y_test, y_out)\n",
    "        rmse = mean_squared_error(y_test, y_out, squared=False)\n",
    "        me_global.append(mae)\n",
    "        mae_global.append(mae)\n",
    "        mse_global.append(mse)\n",
    "        rmse_global.append(mse)\n",
    "        print(\"Iteration {}: me={:.4f} mae={:.4f} mse={:.4f} rmse={:.4f}\".format(i,me, mae, mse, rmse))\n",
    "    print(\"Global: me={:.4f} mae={:.4f} mse={:.4f} rmse={:.4f}\\n\".format(np.average(me_global), np.average(mae_global), np.average(mse_global), np.average(rmse_global)))"
   ]
  },
  {
   "cell_type": "code",
   "execution_count": null,
   "metadata": {},
   "outputs": [],
   "source": []
  }
 ],
 "metadata": {
  "kernelspec": {
   "display_name": "Python 3",
   "language": "python",
   "name": "python3"
  },
  "language_info": {
   "codemirror_mode": {
    "name": "ipython",
    "version": 3
   },
   "file_extension": ".py",
   "mimetype": "text/x-python",
   "name": "python",
   "nbconvert_exporter": "python",
   "pygments_lexer": "ipython3",
   "version": "3.8.3"
  }
 },
 "nbformat": 4,
 "nbformat_minor": 4
}
