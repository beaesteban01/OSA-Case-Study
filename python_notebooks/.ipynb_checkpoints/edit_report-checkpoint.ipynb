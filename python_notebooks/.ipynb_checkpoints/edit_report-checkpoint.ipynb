{
 "cells": [
  {
   "cell_type": "code",
   "execution_count": null,
   "metadata": {},
   "outputs": [],
   "source": [
    "# predictors and target definition\n",
    "predictors = ['Gender', 'Weight', 'Height', 'Age', 'Cervical', 'BMI']\n",
    "x = df[predictors].values\n",
    "y = df['IAH'].values\n",
    "\n",
    "...\n",
    "\n",
    "# Slpit data \n",
    "x_train, x_test, y_train, y_test = model_selection.train_test_split(x, y, test_size= 0.2)\n",
    "\n",
    "... \n",
    "\n",
    "# Linear Regression\n",
    "model_linear = linear_model.LinearRegression().fit(x_train,y_train)\n",
    "y_out_linear = model_linear.predict(x_test)\n",
    "# Decision Tree\n",
    "...\n",
    "# Random Forest\n",
    "...\n",
    "# KNN\n",
    "...\n",
    "\n",
    "# Linear Regression\n",
    "model_linear = linear_model.LinearRegression()\n",
    "y_out_linear = cross_val_predict(model_linear, x, y, cv = 3) #to plot\n",
    "...\n",
    "mse_cross = cross_val_score(model_linear, x, y, cv = 3, scoring = 'neg_mean_squared_error')\n",
    "rmse_cross = cross_val_score(model_linear, x, y, cv = 3, scoring = 'neg_root_mean_squared_error')\n",
    "mae_cross = cross_val_score(model_linear, x, y, cv = 3, scoring = 'neg_mean_absolute_error')\n",
    "r2_cross = cross_val_score(model_linear, x, y, cv = 3, scoring = 'r2')\n",
    "\n",
    "\n"
   ]
  }
 ],
 "metadata": {
  "kernelspec": {
   "display_name": "Python 3",
   "language": "python",
   "name": "python3"
  },
  "language_info": {
   "codemirror_mode": {
    "name": "ipython",
    "version": 3
   },
   "file_extension": ".py",
   "mimetype": "text/x-python",
   "name": "python",
   "nbconvert_exporter": "python",
   "pygments_lexer": "ipython3",
   "version": "3.8.3"
  }
 },
 "nbformat": 4,
 "nbformat_minor": 4
}
