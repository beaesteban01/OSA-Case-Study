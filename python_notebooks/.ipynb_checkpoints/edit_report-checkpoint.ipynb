{
 "cells": [
  {
   "cell_type": "code",
   "execution_count": null,
   "metadata": {},
   "outputs": [],
   "source": [
    "# predictors and target definition\n",
    "predictors = ['Gender', 'Weight', 'Height', 'Age', 'Cervical', 'BMI']\n",
    "x = df[predictors]\n",
    "y = df['IAH']\n",
    "\n",
    "...\n",
    "\n",
    "# Slpit data \n",
    "x_train, x_test, y_train, y_test = model_selection.train_test_split(x, y, test_size= 0.2)\n",
    "\n",
    "... \n",
    "\n",
    "from sklearn.linear_model import LinearRegression\n",
    "model_linear = linear_model.LinearRegression().fit(x_train,y_train)\n",
    "y_out_linear = cross_val_predict(model_linear, x_test, y_test, cv = 3)\n",
    "\n",
    "from sklearn.tree import DecisionTreeRegressor\n",
    "model_tree = DecisionTreeRegressor().fit(x_train, y_train)\n",
    "y_out_tree = cross_val_predict(model_tree, x_test, y_test, cv = 3)\n",
    "\n",
    "from sklearn.ensemble import RandomForestRegressor\n",
    "model_forest = RandomForestRegressor().fit(x_train, y_train)\n",
    "y_out_forest = cross_val_predict(model_forest, x_test, y_test, cv = 3)\n",
    "\n",
    "from sklearn.neighbors import KNeighborsRegressor\n",
    "model_knn = KNeighborsRegressor().fit(x_train, y_train)\n",
    "y_out_knn = cross_val_predict(model_knn, x_test, y_test, cv = 3)"
   ]
  }
 ],
 "metadata": {
  "kernelspec": {
   "display_name": "Python 3",
   "language": "python",
   "name": "python3"
  },
  "language_info": {
   "codemirror_mode": {
    "name": "ipython",
    "version": 3
   },
   "file_extension": ".py",
   "mimetype": "text/x-python",
   "name": "python",
   "nbconvert_exporter": "python",
   "pygments_lexer": "ipython3",
   "version": "3.8.3"
  }
 },
 "nbformat": 4,
 "nbformat_minor": 4
}
