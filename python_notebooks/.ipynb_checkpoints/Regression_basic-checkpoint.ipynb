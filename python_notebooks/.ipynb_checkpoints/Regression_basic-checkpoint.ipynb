{
 "cells": [
  {
   "cell_type": "code",
   "execution_count": 1,
   "metadata": {},
   "outputs": [],
   "source": [
    "import pandas as pd\n",
    "import numpy as np\n",
    "\n",
    "file = '../../../DATA/OSA_python.xlsx'\n",
    "data = pd.read_excel(file)\n",
    "df = pd.DataFrame(data)"
   ]
  },
  {
   "cell_type": "code",
   "execution_count": 2,
   "metadata": {},
   "outputs": [
    {
     "data": {
      "text/html": [
       "<div>\n",
       "<style scoped>\n",
       "    .dataframe tbody tr th:only-of-type {\n",
       "        vertical-align: middle;\n",
       "    }\n",
       "\n",
       "    .dataframe tbody tr th {\n",
       "        vertical-align: top;\n",
       "    }\n",
       "\n",
       "    .dataframe thead th {\n",
       "        text-align: right;\n",
       "    }\n",
       "</style>\n",
       "<table border=\"1\" class=\"dataframe\">\n",
       "  <thead>\n",
       "    <tr style=\"text-align: right;\">\n",
       "      <th></th>\n",
       "      <th>Gender</th>\n",
       "      <th>IAH</th>\n",
       "      <th>Weight</th>\n",
       "      <th>Height</th>\n",
       "      <th>Age</th>\n",
       "      <th>Cervical</th>\n",
       "      <th>BMI</th>\n",
       "    </tr>\n",
       "    <tr>\n",
       "      <th>Patient</th>\n",
       "      <th></th>\n",
       "      <th></th>\n",
       "      <th></th>\n",
       "      <th></th>\n",
       "      <th></th>\n",
       "      <th></th>\n",
       "      <th></th>\n",
       "    </tr>\n",
       "  </thead>\n",
       "  <tbody>\n",
       "    <tr>\n",
       "      <th>P0002</th>\n",
       "      <td>1</td>\n",
       "      <td>29.6</td>\n",
       "      <td>119</td>\n",
       "      <td>174</td>\n",
       "      <td>56</td>\n",
       "      <td>48.0</td>\n",
       "      <td>0.003931</td>\n",
       "    </tr>\n",
       "    <tr>\n",
       "      <th>P0004</th>\n",
       "      <td>1</td>\n",
       "      <td>19.7</td>\n",
       "      <td>78</td>\n",
       "      <td>168</td>\n",
       "      <td>39</td>\n",
       "      <td>42.0</td>\n",
       "      <td>0.002764</td>\n",
       "    </tr>\n",
       "    <tr>\n",
       "      <th>P0005</th>\n",
       "      <td>1</td>\n",
       "      <td>9.0</td>\n",
       "      <td>80</td>\n",
       "      <td>173</td>\n",
       "      <td>32</td>\n",
       "      <td>40.0</td>\n",
       "      <td>0.002673</td>\n",
       "    </tr>\n",
       "    <tr>\n",
       "      <th>P0006</th>\n",
       "      <td>1</td>\n",
       "      <td>2.0</td>\n",
       "      <td>109</td>\n",
       "      <td>190</td>\n",
       "      <td>32</td>\n",
       "      <td>42.0</td>\n",
       "      <td>0.003019</td>\n",
       "    </tr>\n",
       "    <tr>\n",
       "      <th>P0007</th>\n",
       "      <td>1</td>\n",
       "      <td>34.0</td>\n",
       "      <td>86</td>\n",
       "      <td>169</td>\n",
       "      <td>39</td>\n",
       "      <td>42.0</td>\n",
       "      <td>0.003011</td>\n",
       "    </tr>\n",
       "  </tbody>\n",
       "</table>\n",
       "</div>"
      ],
      "text/plain": [
       "         Gender   IAH  Weight  Height  Age  Cervical       BMI\n",
       "Patient                                                       \n",
       "P0002         1  29.6     119     174   56      48.0  0.003931\n",
       "P0004         1  19.7      78     168   39      42.0  0.002764\n",
       "P0005         1   9.0      80     173   32      40.0  0.002673\n",
       "P0006         1   2.0     109     190   32      42.0  0.003019\n",
       "P0007         1  34.0      86     169   39      42.0  0.003011"
      ]
     },
     "execution_count": 2,
     "metadata": {},
     "output_type": "execute_result"
    }
   ],
   "source": [
    "df.set_index('Patient', inplace=True)\n",
    "df.head()"
   ]
  },
  {
   "cell_type": "code",
   "execution_count": 3,
   "metadata": {},
   "outputs": [],
   "source": [
    "#features \n",
    "predictors = ['Gender', 'Weight', 'Height', 'Age', 'Cervical', 'BMI']\n",
    "x = df[predictors].values\n",
    "y = df['IAH'].values"
   ]
  },
  {
   "cell_type": "markdown",
   "metadata": {},
   "source": [
    "# Approach 1. only split train test"
   ]
  },
  {
   "cell_type": "code",
   "execution_count": null,
   "metadata": {},
   "outputs": [],
   "source": [
    "from sklearn import model_selection\n",
    "x_train, x_test, y_train, y_test = model_selection.train_test_split(x, y, test_size= 0.2)"
   ]
  },
  {
   "cell_type": "markdown",
   "metadata": {},
   "source": [
    "### Fittings (not part of the problem)"
   ]
  },
  {
   "cell_type": "code",
   "execution_count": null,
   "metadata": {},
   "outputs": [],
   "source": [
    "import sklearn\n",
    "import matplotlib.pyplot as plt\n",
    "\n",
    "from sklearn import datasets\n",
    "\n",
    "#LINEAR REGRESSION\n",
    "from sklearn.linear_model import LinearRegression\n",
    "x, y = datasets.make_regression(n_samples=30, n_features=1, noise=10)\n",
    "\n",
    "y=y**2\n",
    "model = LinearRegression().fit(x,y)\n",
    "plt.figure(figsize=(9, 8))\n",
    "plt.scatter(x, y)\n",
    "plt.plot(x,model.predict(x), \"g\")\n",
    "plt.show()"
   ]
  },
  {
   "cell_type": "code",
   "execution_count": null,
   "metadata": {},
   "outputs": [],
   "source": [
    "#DECISION TREE\n",
    "from sklearn.tree import DecisionTreeRegressor\n",
    "x_test= np.linspace(x.min(),x.max(), 100)[:, np.newaxis]\n",
    "\n",
    "model = DecisionTreeRegressor().fit(x,y)\n",
    "plt.figure(figsize=(9, 8))\n",
    "plt.scatter(x, y)\n",
    "plt.plot(x_test ,model.predict(x_test), \"g\")\n",
    "plt.show()"
   ]
  },
  {
   "cell_type": "code",
   "execution_count": null,
   "metadata": {},
   "outputs": [],
   "source": [
    "#RANDOM FOREST\n",
    "from sklearn.ensemble import RandomForestRegressor\n",
    "\n",
    "model = RandomForestRegressor(n_estimators=100).fit(x,y)\n",
    "plt.figure(figsize=(9, 8))\n",
    "plt.scatter(x, y)\n",
    "plt.plot(x_test ,model.predict(x_test), \"g\")\n",
    "plt.show()"
   ]
  },
  {
   "cell_type": "code",
   "execution_count": null,
   "metadata": {},
   "outputs": [],
   "source": [
    "#KNN\n",
    "from sklearn.neighbors import KNeighborsRegressor\n",
    "\n",
    "model = KNeighborsRegressor(n_neighbors=5).fit(x,y)\n",
    "plt.figure(figsize=(9, 8))\n",
    "plt.scatter(x, y)\n",
    "plt.plot(x_test ,model.predict(x_test), \"g\")\n",
    "plt.show()"
   ]
  },
  {
   "cell_type": "markdown",
   "metadata": {},
   "source": [
    "# Approach 1. Only split train test"
   ]
  },
  {
   "cell_type": "code",
   "execution_count": 4,
   "metadata": {},
   "outputs": [],
   "source": [
    "from sklearn import model_selection\n",
    "from sklearn import linear_model\n",
    "\n",
    "import matplotlib.pyplot as plt\n",
    "from sklearn.metrics import  mean_absolute_error, mean_squared_error, max_error, r2_score\n",
    "\n",
    "\n",
    "x_train, x_test, y_train, y_test = model_selection.train_test_split(x, y, test_size= 0.2)\n"
   ]
  },
  {
   "cell_type": "code",
   "execution_count": 5,
   "metadata": {},
   "outputs": [
    {
     "name": "stdout",
     "output_type": "stream",
     "text": [
      "MSE:  213.35112281502364\n",
      "RMSE:  14.606543835385004\n",
      "MAE:  11.178038782168956\n",
      "R2 score:  0.2591044004176276\n"
     ]
    }
   ],
   "source": [
    "from sklearn.linear_model import LinearRegression\n",
    "model_linear = linear_model.LinearRegression().fit(x_train,y_train)\n",
    "\n",
    "y_out_linear = model_linear.predict(x_test)\n",
    "\n",
    "mse_lin_1 = mean_squared_error(y_test, y_out_linear)\n",
    "rmse_lin_1 =  mean_squared_error(y_test, y_out_linear, squared=False)\n",
    "mae_lin_1 = mean_absolute_error(y_test, y_out_linear)\n",
    "r2_lin_1 = r2_score(y_test, y_out_linear)\n",
    "\n",
    "print(\"MSE: \",mse_lin_1)\n",
    "print(\"RMSE: \",rmse_lin_1)\n",
    "print(\"MAE: \",mae_lin_1)\n",
    "print(\"R2 score: \",r2_lin_1)\n"
   ]
  },
  {
   "cell_type": "code",
   "execution_count": 6,
   "metadata": {},
   "outputs": [
    {
     "name": "stdout",
     "output_type": "stream",
     "text": [
      "MSE:  473.73787401574805\n",
      "RMSE:  21.765520301976427\n",
      "MAE:  16.977165354330705\n",
      "R2 score:  -0.6451298759654815\n"
     ]
    }
   ],
   "source": [
    "from sklearn.tree import DecisionTreeRegressor\n",
    "model_tree = DecisionTreeRegressor().fit(x_train, y_train)\n",
    "\n",
    "y_out_tree = model_tree.predict(x_test)\n",
    "\n",
    "mse_tree_1 = mean_squared_error(y_test, y_out_tree)\n",
    "rmse_tree_1 =  mean_squared_error(y_test, y_out_tree, squared=False)\n",
    "mae_tree_1 = mean_absolute_error(y_test, y_out_tree)\n",
    "r2_tree_1 = r2_score(y_test, y_out_tree)\n",
    "\n",
    "print(\"MSE: \",mse_tree_1)\n",
    "print(\"RMSE: \",rmse_tree_1)\n",
    "print(\"MAE: \",mae_tree_1)\n",
    "print(\"R2 score: \",r2_tree_1)"
   ]
  },
  {
   "cell_type": "code",
   "execution_count": 7,
   "metadata": {},
   "outputs": [
    {
     "name": "stdout",
     "output_type": "stream",
     "text": [
      "MSE:  255.42324708440944\n",
      "RMSE:  15.981966308449328\n",
      "MAE:  12.106911811023618\n",
      "R2 score:  0.11300227859614509\n"
     ]
    }
   ],
   "source": [
    "from sklearn.ensemble import RandomForestRegressor\n",
    "\n",
    "model_forest = RandomForestRegressor().fit(x_train, y_train)\n",
    "\n",
    "y_out_forest = model_forest.predict(x_test)\n",
    "\n",
    "mse_for_1 = mean_squared_error(y_test, y_out_forest)\n",
    "rmse_for_1 =  mean_squared_error(y_test, y_out_forest, squared=False)\n",
    "mae_for_1 = mean_absolute_error(y_test, y_out_forest)\n",
    "r2_for_1 = r2_score(y_test, y_out_forest)\n",
    "print(\"MSE: \",mse_for_1)\n",
    "print(\"RMSE: \",rmse_for_1)\n",
    "print(\"MAE: \",mae_for_1)\n",
    "print(\"R2 score: \",r2_for_1)\n"
   ]
  },
  {
   "cell_type": "code",
   "execution_count": 8,
   "metadata": {},
   "outputs": [
    {
     "name": "stdout",
     "output_type": "stream",
     "text": [
      "MSE:  262.42995288188973\n",
      "RMSE:  16.19968990079408\n",
      "MAE:  12.301574803149604\n",
      "R2 score:  0.08867038184103726\n"
     ]
    }
   ],
   "source": [
    "from sklearn.neighbors import KNeighborsRegressor\n",
    "\n",
    "model_knn = KNeighborsRegressor().fit(x_train, y_train)\n",
    "\n",
    "y_out_knn = model_knn.predict(x_test)\n",
    "\n",
    "mse_knn_1 = mean_squared_error(y_test, y_out_knn)\n",
    "rmse_knn_1 =  mean_squared_error(y_test, y_out_knn, squared=False)\n",
    "mae_knn_1 = mean_absolute_error(y_test, y_out_knn)\n",
    "r2_knn_1 = r2_score(y_test, y_out_knn)\n",
    "print(\"MSE: \",mse_knn_1)\n",
    "print(\"RMSE: \",rmse_knn_1)\n",
    "print(\"MAE: \",mae_knn_1)\n",
    "print(\"R2 score: \",r2_knn_1)"
   ]
  },
  {
   "cell_type": "code",
   "execution_count": 9,
   "metadata": {},
   "outputs": [
    {
     "name": "stdout",
     "output_type": "stream",
     "text": [
      "MSE:  287.3864975973158\n",
      "RMSE:  16.952477624150276\n",
      "MAE:  12.047332528006248\n",
      "R2 score:  0.0020048235984827523\n"
     ]
    }
   ],
   "source": [
    "from sklearn.svm import SVR\n",
    "\n",
    "model_svr = SVR().fit(x_train,y_train)\n",
    "y_out_svr = model_svr.predict(x_test)\n",
    "\n",
    "mse_svr_1 = mean_squared_error(y_test, y_out_svr)\n",
    "rmse_svr_1 =  mean_squared_error(y_test, y_out_svr, squared=False)\n",
    "mae_svr_1 = mean_absolute_error(y_test, y_out_svr)\n",
    "r2_svr_1 = r2_score(y_test, y_out_svr)\n",
    "print(\"MSE: \",mse_svr_1)\n",
    "print(\"RMSE: \",rmse_svr_1)\n",
    "print(\"MAE: \",mae_svr_1)\n",
    "print(\"R2 score: \",r2_svr_1)\n"
   ]
  },
  {
   "cell_type": "markdown",
   "metadata": {},
   "source": [
    "# Approach 2.  Add cross_val_predict to plot predictios only\n",
    "## use cross_val_score to use metrics"
   ]
  },
  {
   "cell_type": "code",
   "execution_count": 10,
   "metadata": {},
   "outputs": [],
   "source": [
    "from sklearn.model_selection import cross_val_predict, cross_val_score"
   ]
  },
  {
   "cell_type": "markdown",
   "metadata": {},
   "source": [
    "## LINEAR REGRESSION"
   ]
  },
  {
   "cell_type": "code",
   "execution_count": 11,
   "metadata": {},
   "outputs": [],
   "source": [
    "from sklearn.linear_model import LinearRegression\n",
    "model_linear = linear_model.LinearRegression().fit(x,y)\n"
   ]
  },
  {
   "cell_type": "code",
   "execution_count": 12,
   "metadata": {},
   "outputs": [
    {
     "name": "stdout",
     "output_type": "stream",
     "text": [
      "MSE cross validated:  273.0133151369417\n",
      "RMSE cross validated:  16.421166927819595\n",
      "MAE cross validated:  12.471179662938994\n",
      "R2 score cross validated:  0.21384429042318578\n"
     ]
    }
   ],
   "source": [
    "\n",
    "mse_lin_2 = cross_val_score(model_linear, x, y, cv = 3, scoring = 'neg_mean_squared_error')\n",
    "rmse_lin_2 = cross_val_score(model_linear, x, y, cv = 3, scoring = 'neg_root_mean_squared_error')\n",
    "mae_lin_2 = cross_val_score(model_linear, x, y, cv = 3, scoring = 'neg_mean_absolute_error')\n",
    "r2_lin_2 = cross_val_score(model_linear, x, y, cv = 3, scoring = 'r2')\n",
    "\n",
    "print(\"MSE cross validated: \",abs(mse_lin_2.mean()))\n",
    "print(\"RMSE cross validated: \",abs(rmse_lin_2.mean()))\n",
    "print(\"MAE cross validated: \",abs(mae_lin_2.mean()))\n",
    "print(\"R2 score cross validated: \",r2_lin_2.mean())"
   ]
  },
  {
   "cell_type": "code",
   "execution_count": 13,
   "metadata": {},
   "outputs": [
    {
     "data": {
      "image/png": "[encoded data removed]",
      "text/plain": [
       "<Figure size 432x288 with 1 Axes>"
      ]
     },
     "metadata": {
      "needs_background": "light"
     },
     "output_type": "display_data"
    }
   ],
   "source": [
    "y_out_linear = cross_val_predict(model_linear, x, y, cv = 3) #Para pintar solo\n",
    "fig, ax = plt.subplots()\n",
    "ax.scatter(y, y_out_linear, c  = '#8DD657')\n",
    "ax.plot([y.min(), y.max()], [y.min(), y.max()], 'k--', lw=4)\n",
    "ax.set_xlabel('Measured')\n",
    "ax.set_ylabel('Predicted')\n",
    "plt.title('Prediction errors with Linear Regression')\n",
    "plt.show()\n",
    "\n"
   ]
  },
  {
   "cell_type": "markdown",
   "metadata": {},
   "source": [
    "## Decision tree"
   ]
  },
  {
   "cell_type": "code",
   "execution_count": 14,
   "metadata": {},
   "outputs": [],
   "source": [
    "from sklearn.tree import DecisionTreeRegressor\n",
    "model_tree = DecisionTreeRegressor().fit(x, y)"
   ]
  },
  {
   "cell_type": "code",
   "execution_count": 15,
   "metadata": {},
   "outputs": [
    {
     "data": {
      "image/png": "[encoded data removed]",
      "text/plain": [
       "<Figure size 432x288 with 1 Axes>"
      ]
     },
     "metadata": {
      "needs_background": "light"
     },
     "output_type": "display_data"
    }
   ],
   "source": [
    "y_out_tree = cross_val_predict(model_tree, x, y, cv = 3)\n",
    "\n",
    "fig, ax = plt.subplots()\n",
    "ax.scatter(y, y_out_tree, c  = '#8DD657')\n",
    "ax.plot([y.min(), y.max()], [y.min(), y.max()], 'k--', lw=4)\n",
    "ax.set_xlabel('Measured')\n",
    "ax.set_ylabel('Predicted')\n",
    "plt.title('Prediction errors with Decision Tree')\n",
    "plt.show()\n"
   ]
  },
  {
   "cell_type": "code",
   "execution_count": 16,
   "metadata": {},
   "outputs": [
    {
     "name": "stdout",
     "output_type": "stream",
     "text": [
      "MSE cross validated:  496.1139586336404\n",
      "RMSE cross validated:  22.54666933229089\n",
      "MAE cross validated:  16.63531640287341\n",
      "R2 score cross validated:  -0.5695879495291046\n"
     ]
    }
   ],
   "source": [
    "\n",
    "mse_tree_2 = cross_val_score(model_tree, x, y, cv = 3, scoring = 'neg_mean_squared_error')\n",
    "rmse_tree_2 = cross_val_score(model_tree, x, y, cv = 3, scoring = 'neg_root_mean_squared_error')\n",
    "mae_tree_2 = cross_val_score(model_tree, x, y, cv = 3, scoring = 'neg_mean_absolute_error')\n",
    "r2_tree_2= cross_val_score(model_tree, x, y, cv = 3, scoring = 'r2')\n",
    "\n",
    "print(\"MSE cross validated: \",abs(mse_tree_2.mean()))\n",
    "print(\"RMSE cross validated: \",abs(rmse_tree_2.mean()))\n",
    "print(\"MAE cross validated: \",abs(mae_tree_2.mean()))\n",
    "print(\"R2 score cross validated: \",r2_tree_2.mean())"
   ]
  },
  {
   "cell_type": "markdown",
   "metadata": {},
   "source": [
    "## Random forest"
   ]
  },
  {
   "cell_type": "code",
   "execution_count": 17,
   "metadata": {},
   "outputs": [
    {
     "data": {
      "image/png": "[encoded data removed]",
      "text/plain": [
       "<Figure size 432x288 with 1 Axes>"
      ]
     },
     "metadata": {
      "needs_background": "light"
     },
     "output_type": "display_data"
    }
   ],
   "source": [
    "from sklearn.ensemble import RandomForestRegressor\n",
    "\n",
    "model_forest = RandomForestRegressor().fit(x, y)\n",
    "\n",
    "y_out_forest = cross_val_predict(model_forest, x, y, cv = 3)\n",
    "\n",
    "fig, ax = plt.subplots()\n",
    "ax.scatter(y, y_out_forest, c  = '#8DD657')\n",
    "ax.plot([y.min(), y.max()], [y.min(), y.max()], 'k--', lw=4)\n",
    "ax.set_xlabel('Measured')\n",
    "ax.set_ylabel('Predicted')\n",
    "plt.title('Prediction errors with Random Forest')\n",
    "plt.show()\n",
    "\n"
   ]
  },
  {
   "cell_type": "code",
   "execution_count": 18,
   "metadata": {},
   "outputs": [
    {
     "name": "stdout",
     "output_type": "stream",
     "text": [
      "MSE cross validated:  293.69441528137196\n",
      "RMSE cross validated:  16.995150809612223\n",
      "MAE cross validated:  12.717679093266563\n",
      "R2 score cross validated:  0.15188183181933942\n"
     ]
    }
   ],
   "source": [
    "mse_for_2 = cross_val_score(model_forest, x, y, cv = 3, scoring = 'neg_mean_squared_error')\n",
    "rmse_for_2 = cross_val_score(model_forest, x, y, cv = 3, scoring = 'neg_root_mean_squared_error')\n",
    "mae_for_2 = cross_val_score(model_forest, x, y, cv = 3, scoring = 'neg_mean_absolute_error')\n",
    "r2_for_2 = cross_val_score(model_forest, x, y, cv = 3, scoring = 'r2')\n",
    "\n",
    "print(\"MSE cross validated: \",abs(mse_for_2.mean()))\n",
    "print(\"RMSE cross validated: \",abs(rmse_for_2.mean()))\n",
    "print(\"MAE cross validated: \",abs(mae_for_2.mean()))\n",
    "print(\"R2 score cross validated: \",r2_for_2.mean())"
   ]
  },
  {
   "cell_type": "markdown",
   "metadata": {},
   "source": [
    "## K Nearest Neighbors"
   ]
  },
  {
   "cell_type": "code",
   "execution_count": 19,
   "metadata": {},
   "outputs": [
    {
     "data": {
      "image/png": "[encoded data removed]",
      "text/plain": [
       "<Figure size 432x288 with 1 Axes>"
      ]
     },
     "metadata": {
      "needs_background": "light"
     },
     "output_type": "display_data"
    }
   ],
   "source": [
    "from sklearn.neighbors import KNeighborsRegressor\n",
    "\n",
    "model_knn = KNeighborsRegressor().fit(x, y)\n",
    "\n",
    "y_out_knn = cross_val_predict(model_knn, x, y, cv = 3)\n",
    "\n",
    "fig, ax = plt.subplots()\n",
    "ax.scatter(y, y_out_knn, c  = '#8DD657')\n",
    "ax.plot([y.min(), y.max()], [y.min(), y.max()], 'k--', lw=4)\n",
    "ax.set_xlabel('Measured')\n",
    "ax.set_ylabel('Predicted')\n",
    "plt.title('Prediction errors with KNN')\n",
    "plt.show()"
   ]
  },
  {
   "cell_type": "code",
   "execution_count": 20,
   "metadata": {},
   "outputs": [
    {
     "name": "stdout",
     "output_type": "stream",
     "text": [
      "MSE cross validated:  315.1508027528689\n",
      "RMSE cross validated:  17.644022403698045\n",
      "MAE cross validated:  13.145371397061018\n",
      "R2 score cross validated:  0.09262158568640984\n"
     ]
    }
   ],
   "source": [
    "mse_knn_2 = cross_val_score(model_knn, x, y, cv = 3, scoring = 'neg_mean_squared_error')\n",
    "rmse_knn_2 = cross_val_score(model_knn, x, y, cv = 3, scoring = 'neg_root_mean_squared_error')\n",
    "mae_knn_2 = cross_val_score(model_knn, x, y, cv = 3, scoring = 'neg_mean_absolute_error')\n",
    "r2_knn_2 = cross_val_score(model_knn, x, y, cv = 3, scoring = 'r2')\n",
    "\n",
    "print(\"MSE cross validated: \",abs(mse_knn_2.mean()))\n",
    "print(\"RMSE cross validated: \",abs(rmse_knn_2.mean()))\n",
    "print(\"MAE cross validated: \",abs(mae_knn_2.mean()))\n",
    "print(\"R2 score cross validated: \",r2_knn_2.mean())"
   ]
  },
  {
   "cell_type": "markdown",
   "metadata": {},
   "source": [
    "# SVR"
   ]
  },
  {
   "cell_type": "code",
   "execution_count": 22,
   "metadata": {},
   "outputs": [
    {
     "data": {
      "image/png": "[encoded data removed]",
      "text/plain": [
       "<Figure size 432x288 with 1 Axes>"
      ]
     },
     "metadata": {
      "needs_background": "light"
     },
     "output_type": "display_data"
    }
   ],
   "source": [
    "\n",
    "model_svr = SVR().fit(x,y)\n",
    "y_out_svr = cross_val_predict(model_svr, x, y, cv = 3)\n",
    "\n",
    "fig, ax = plt.subplots()\n",
    "ax.scatter(y, y_out_svr, c  = '#8DD657')\n",
    "ax.plot([y.min(), y.max()], [y.min(), y.max()], 'k--', lw=4)\n",
    "ax.set_xlabel('Measured')\n",
    "ax.set_ylabel('Predicted')\n",
    "plt.title('Prediction errors with SVR')\n",
    "plt.show()\n"
   ]
  },
  {
   "cell_type": "code",
   "execution_count": 23,
   "metadata": {},
   "outputs": [
    {
     "name": "stdout",
     "output_type": "stream",
     "text": [
      "MSE cross validated:  345.66175793393717\n",
      "RMSE cross validated:  18.478688204342323\n",
      "MAE cross validated:  12.95137320142589\n",
      "R2 score cross validated:  0.0044796386996086195\n"
     ]
    }
   ],
   "source": [
    "mse_svr_2 = cross_val_score(model_svr, x, y, cv = 3, scoring = 'neg_mean_squared_error')\n",
    "rmse_svr_2 = cross_val_score(model_svr, x, y, cv = 3, scoring = 'neg_root_mean_squared_error')\n",
    "mae_svr_2 = cross_val_score(model_svr, x, y, cv = 3, scoring = 'neg_mean_absolute_error')\n",
    "r2_svr_2 = cross_val_score(model_svr, x, y, cv = 3, scoring = 'r2')\n",
    "\n",
    "print(\"MSE cross validated: \",abs(mse_svr_2.mean()))\n",
    "print(\"RMSE cross validated: \",abs(rmse_svr_2.mean()))\n",
    "print(\"MAE cross validated: \",abs(mae_svr_2.mean()))\n",
    "print(\"R2 score cross validated: \",r2_svr_2.mean())"
   ]
  },
  {
   "cell_type": "code",
   "execution_count": null,
   "metadata": {},
   "outputs": [],
   "source": [
    "results "
   ]
  },
  {
   "cell_type": "code",
   "execution_count": 25,
   "metadata": {},
   "outputs": [],
   "source": [
    "results2 = pd.DataFrame({'Model': ['Linear regresion 1', 'Decision Tree 1', 'Random Forest 1', 'KNN 1', 'SVR 1', \n",
    "                                  'Linear regresion 2', 'Decision Tree 2', 'Random Forest 2', 'KNN 2', 'SVR 2'],\n",
    "                        'MSE':   [mse_lin_1, mse_tree_1, mse_for_1, mse_knn_1, mse_svr_1,\n",
    "                                 abs(mse_lin_2.mean()), abs(mse_tree_2.mean()), abs(mse_for_2.mean()), abs(mse_knn_2.mean()), abs(mse_svr_2.mean())],\n",
    "                        'RMSE': [rmse_lin_1, rmse_tree_1, rmse_for_1, rmse_knn_1, rmse_svr_1,\n",
    "                                abs(rmse_lin_2.mean()), abs(rmse_tree_2.mean()), abs(rmse_for_2.mean()), abs(rmse_knn_2.mean()), abs(rmse_svr_2.mean())],\n",
    "                        'MAE': [mae_lin_1, mae_tree_1, mae_for_1, mae_knn_1, mae_svr_1,\n",
    "                               abs(mae_lin_2.mean()), abs(mae_tree_2.mean()), abs(mae_for_2.mean()), abs(mae_knn_2.mean()), abs(mae_svr_2.mean())],\n",
    "                        'R2': [r2_lin_1, r2_tree_1, r2_for_1, r2_knn_1, r2_svr_1,\n",
    "                              abs(r2_lin_2.mean()), abs(r2_tree_2.mean()), abs(r2_for_2.mean()), abs(r2_knn_2.mean()), abs(r2_svr_2.mean())]})"
   ]
  },
  {
   "cell_type": "code",
   "execution_count": 26,
   "metadata": {},
   "outputs": [
    {
     "data": {
      "text/html": [
       "<div>\n",
       "<style scoped>\n",
       "    .dataframe tbody tr th:only-of-type {\n",
       "        vertical-align: middle;\n",
       "    }\n",
       "\n",
       "    .dataframe tbody tr th {\n",
       "        vertical-align: top;\n",
       "    }\n",
       "\n",
       "    .dataframe thead th {\n",
       "        text-align: right;\n",
       "    }\n",
       "</style>\n",
       "<table border=\"1\" class=\"dataframe\">\n",
       "  <thead>\n",
       "    <tr style=\"text-align: right;\">\n",
       "      <th></th>\n",
       "      <th>Model</th>\n",
       "      <th>MSE</th>\n",
       "      <th>RMSE</th>\n",
       "      <th>MAE</th>\n",
       "      <th>R2</th>\n",
       "    </tr>\n",
       "  </thead>\n",
       "  <tbody>\n",
       "    <tr>\n",
       "      <th>0</th>\n",
       "      <td>Linear regresion 1</td>\n",
       "      <td>213.351123</td>\n",
       "      <td>14.606544</td>\n",
       "      <td>11.178039</td>\n",
       "      <td>0.259104</td>\n",
       "    </tr>\n",
       "    <tr>\n",
       "      <th>1</th>\n",
       "      <td>Decision Tree 1</td>\n",
       "      <td>473.737874</td>\n",
       "      <td>21.765520</td>\n",
       "      <td>16.977165</td>\n",
       "      <td>-0.645130</td>\n",
       "    </tr>\n",
       "    <tr>\n",
       "      <th>2</th>\n",
       "      <td>Random Forest 1</td>\n",
       "      <td>255.423247</td>\n",
       "      <td>15.981966</td>\n",
       "      <td>12.106912</td>\n",
       "      <td>0.113002</td>\n",
       "    </tr>\n",
       "    <tr>\n",
       "      <th>3</th>\n",
       "      <td>KNN 1</td>\n",
       "      <td>262.429953</td>\n",
       "      <td>16.199690</td>\n",
       "      <td>12.301575</td>\n",
       "      <td>0.088670</td>\n",
       "    </tr>\n",
       "    <tr>\n",
       "      <th>4</th>\n",
       "      <td>SVR 1</td>\n",
       "      <td>287.386498</td>\n",
       "      <td>16.952478</td>\n",
       "      <td>12.047333</td>\n",
       "      <td>0.002005</td>\n",
       "    </tr>\n",
       "    <tr>\n",
       "      <th>5</th>\n",
       "      <td>Linear regresion 2</td>\n",
       "      <td>273.013315</td>\n",
       "      <td>16.421167</td>\n",
       "      <td>12.471180</td>\n",
       "      <td>0.213844</td>\n",
       "    </tr>\n",
       "    <tr>\n",
       "      <th>6</th>\n",
       "      <td>Decision Tree 2</td>\n",
       "      <td>496.113959</td>\n",
       "      <td>22.546669</td>\n",
       "      <td>16.635316</td>\n",
       "      <td>0.569588</td>\n",
       "    </tr>\n",
       "    <tr>\n",
       "      <th>7</th>\n",
       "      <td>Random Forest 2</td>\n",
       "      <td>293.694415</td>\n",
       "      <td>16.995151</td>\n",
       "      <td>12.717679</td>\n",
       "      <td>0.151882</td>\n",
       "    </tr>\n",
       "    <tr>\n",
       "      <th>8</th>\n",
       "      <td>KNN 2</td>\n",
       "      <td>315.150803</td>\n",
       "      <td>17.644022</td>\n",
       "      <td>13.145371</td>\n",
       "      <td>0.092622</td>\n",
       "    </tr>\n",
       "    <tr>\n",
       "      <th>9</th>\n",
       "      <td>SVR 2</td>\n",
       "      <td>345.661758</td>\n",
       "      <td>18.478688</td>\n",
       "      <td>12.951373</td>\n",
       "      <td>0.004480</td>\n",
       "    </tr>\n",
       "  </tbody>\n",
       "</table>\n",
       "</div>"
      ],
      "text/plain": [
       "                Model         MSE       RMSE        MAE        R2\n",
       "0  Linear regresion 1  213.351123  14.606544  11.178039  0.259104\n",
       "1     Decision Tree 1  473.737874  21.765520  16.977165 -0.645130\n",
       "2     Random Forest 1  255.423247  15.981966  12.106912  0.113002\n",
       "3               KNN 1  262.429953  16.199690  12.301575  0.088670\n",
       "4               SVR 1  287.386498  16.952478  12.047333  0.002005\n",
       "5  Linear regresion 2  273.013315  16.421167  12.471180  0.213844\n",
       "6     Decision Tree 2  496.113959  22.546669  16.635316  0.569588\n",
       "7     Random Forest 2  293.694415  16.995151  12.717679  0.151882\n",
       "8               KNN 2  315.150803  17.644022  13.145371  0.092622\n",
       "9               SVR 2  345.661758  18.478688  12.951373  0.004480"
      ]
     },
     "execution_count": 26,
     "metadata": {},
     "output_type": "execute_result"
    }
   ],
   "source": [
    "results2"
   ]
  },
  {
   "cell_type": "markdown",
   "metadata": {},
   "source": [
    "# KFold crossvalidation"
   ]
  },
  {
   "cell_type": "code",
   "execution_count": 28,
   "metadata": {},
   "outputs": [],
   "source": [
    "#imports si no vamos a hacer lo de fittings\n",
    "import sklearn\n",
    "import matplotlib.pyplot as plt\n",
    "from sklearn.linear_model import LinearRegression\n",
    "from sklearn.tree import DecisionTreeRegressor\n",
    "from sklearn.ensemble import RandomForestRegressor\n",
    "from sklearn.neighbors import KNeighborsRegressor\n",
    "from sklearn.svm import SVR\n",
    "\n",
    "from sklearn.metrics import  mean_absolute_error, mean_squared_error, max_error, r2_score\n",
    "from sklearn import model_selection\n",
    "#from sklearn import datasets\n",
    "from sklearn.model_selection import KFold"
   ]
  },
  {
   "cell_type": "code",
   "execution_count": 29,
   "metadata": {},
   "outputs": [],
   "source": [
    "#features \n",
    "predictors = ['Gender', 'Weight', 'Height', 'Age', 'Cervical', 'BMI']\n",
    "x = df[predictors].values\n",
    "y = df['IAH'].values"
   ]
  },
  {
   "cell_type": "code",
   "execution_count": 30,
   "metadata": {},
   "outputs": [
    {
     "name": "stdout",
     "output_type": "stream",
     "text": [
      "Start training models of Linear Regression 3\n",
      "Iteration 1:mae=11.7069 mse=206.0662 rmse=14.3550 r2=0.3048\n",
      "Iteration 2:mae=11.3477 mse=196.7352 rmse=14.0262 r2=0.0275\n",
      "Iteration 3:mae=14.5897 mse=427.4101 rmse=20.6739 r2=0.1889\n",
      "Iteration 4:mae=11.3326 mse=208.8643 rmse=14.4521 r2=0.1642\n",
      "Iteration 5:mae=13.4585 mse=335.8650 rmse=18.3266 r2=0.2047\n",
      "Global: mae=12.4871 mse=274.9882 rmse=16.3668 r2=0.1780\n",
      "\n",
      "Start training models of Decision Tree 3 \n",
      "Iteration 1:mae=15.6973 mse=444.9872 rmse=21.0947 r2=-0.5012\n",
      "Iteration 2:mae=15.7556 mse=477.0431 rmse=21.8413 r2=-1.3582\n",
      "Iteration 3:mae=15.8244 mse=491.3687 rmse=22.1668 r2=0.0675\n",
      "Iteration 4:mae=15.6378 mse=482.9572 rmse=21.9763 r2=-0.9325\n",
      "Iteration 5:mae=18.6992 mse=632.6822 rmse=25.1532 r2=-0.4982\n",
      "Global: mae=16.3229 mse=505.8077 rmse=22.4465 r2=-0.6445\n",
      "\n",
      "Start training models of Random Forest 3\n",
      "Iteration 1:mae=12.3053 mse=248.6059 rmse=15.7672 r2=0.1613\n",
      "Iteration 2:mae=11.5813 mse=216.0584 rmse=14.6989 r2=-0.0681\n",
      "Iteration 3:mae=14.4451 mse=410.0559 rmse=20.2498 r2=0.2218\n",
      "Iteration 4:mae=11.4763 mse=239.5317 rmse=15.4768 r2=0.0415\n",
      "Iteration 5:mae=13.4905 mse=325.1648 rmse=18.0323 r2=0.2300\n",
      "Global: mae=12.6597 mse=287.8833 rmse=16.8450 r2=0.1173\n",
      "\n",
      "Start training models of KNN 3\n",
      "Iteration 1:mae=11.9313 mse=227.3366 rmse=15.0777 r2=0.2330\n",
      "Iteration 2:mae=12.2272 mse=252.2628 rmse=15.8828 r2=-0.2470\n",
      "Iteration 3:mae=15.2530 mse=460.8271 rmse=21.4669 r2=0.1254\n",
      "Iteration 4:mae=11.7098 mse=250.3524 rmse=15.8225 r2=-0.0018\n",
      "Iteration 5:mae=14.5573 mse=383.6579 rmse=19.5872 r2=0.0915\n",
      "Global: mae=13.1357 mse=314.8874 rmse=17.5674 r2=0.0402\n",
      "\n",
      "Start training models of SVR 3\n",
      "Iteration 1:mae=12.2207 mse=276.3329 rmse=16.6233 r2=0.0677\n",
      "Iteration 2:mae=10.1456 mse=180.7301 rmse=13.4436 r2=0.1066\n",
      "Iteration 3:mae=16.3396 mse=572.8957 rmse=23.9352 r2=-0.0872\n",
      "Iteration 4:mae=11.1142 mse=235.6763 rmse=15.3518 r2=0.0570\n",
      "Iteration 5:mae=14.1432 mse=437.6283 rmse=20.9196 r2=-0.0363\n",
      "Global: mae=12.7927 mse=340.6527 rmse=18.0547 r2=0.0215\n",
      "\n"
     ]
    }
   ],
   "source": [
    "\n",
    "models = {\"Linear Regression 3\":LinearRegression(), \\\n",
    "          \"Decision Tree 3 \": DecisionTreeRegressor(), \\\n",
    "          \"Random Forest 3\": RandomForestRegressor(n_estimators=100), \\\n",
    "          \"KNN 3\": KNeighborsRegressor(n_neighbors=5), \\\n",
    "          \"SVR 3\": SVR()}\n",
    "j=10\n",
    "for name in models:\n",
    "    print(\"Start training models of {}\".format(name))\n",
    "    k = 5\n",
    "    kf = KFold(n_splits=k)\n",
    "    precisions = []\n",
    "    i = 0\n",
    "    mae_global = []\n",
    "    mse_global = []\n",
    "    rmse_global = []\n",
    "    r2_global = []\n",
    "    \n",
    "    for train, test in kf.split(x):\n",
    "        i+=1\n",
    "        x_train, x_test = x[train], x[test]\n",
    "        y_train, y_test = y[train], y[test]\n",
    "        model = models[name].fit(x_train,y_train)\n",
    "        y_out = model.predict(x_test)\n",
    "\n",
    "        mae = mean_absolute_error(y_test, y_out)\n",
    "        mse = mean_squared_error(y_test, y_out)\n",
    "        rmse = mean_squared_error(y_test, y_out, squared=False)\n",
    "        r2 = r2_score(y_test, y_out)\n",
    "        ...\n",
    "        \n",
    "        mae_global.append(mae)\n",
    "        mse_global.append(mse)\n",
    "        rmse_global.append(rmse)\n",
    "        r2_global.append(r2)\n",
    "        \n",
    "        results2.loc[j] = [name, np.average(mse_global), np.average(rmse_global), np.average(mae_global), np.average(r2_global)]\n",
    "        \n",
    "        print(\"Iteration {}:mae={:.4f} mse={:.4f} rmse={:.4f} r2={:.4f}\".format(i, mae, mse, rmse, r2))\n",
    "    j+=1\n",
    "    print(\"Global: mae={:.4f} mse={:.4f} rmse={:.4f} r2={:.4f}\\n\".format(np.average(mae_global), np.average(mse_global), np.average(rmse_global), np.average(r2_global)))"
   ]
  },
  {
   "cell_type": "code",
   "execution_count": 31,
   "metadata": {},
   "outputs": [
    {
     "data": {
      "text/html": [
       "<div>\n",
       "<style scoped>\n",
       "    .dataframe tbody tr th:only-of-type {\n",
       "        vertical-align: middle;\n",
       "    }\n",
       "\n",
       "    .dataframe tbody tr th {\n",
       "        vertical-align: top;\n",
       "    }\n",
       "\n",
       "    .dataframe thead th {\n",
       "        text-align: right;\n",
       "    }\n",
       "</style>\n",
       "<table border=\"1\" class=\"dataframe\">\n",
       "  <thead>\n",
       "    <tr style=\"text-align: right;\">\n",
       "      <th></th>\n",
       "      <th>Model</th>\n",
       "      <th>MSE</th>\n",
       "      <th>RMSE</th>\n",
       "      <th>MAE</th>\n",
       "      <th>R2</th>\n",
       "    </tr>\n",
       "  </thead>\n",
       "  <tbody>\n",
       "    <tr>\n",
       "      <th>0</th>\n",
       "      <td>Linear regresion 1</td>\n",
       "      <td>213.351123</td>\n",
       "      <td>14.606544</td>\n",
       "      <td>11.178039</td>\n",
       "      <td>0.259104</td>\n",
       "    </tr>\n",
       "    <tr>\n",
       "      <th>1</th>\n",
       "      <td>Decision Tree 1</td>\n",
       "      <td>473.737874</td>\n",
       "      <td>21.765520</td>\n",
       "      <td>16.977165</td>\n",
       "      <td>-0.645130</td>\n",
       "    </tr>\n",
       "    <tr>\n",
       "      <th>2</th>\n",
       "      <td>Random Forest 1</td>\n",
       "      <td>255.423247</td>\n",
       "      <td>15.981966</td>\n",
       "      <td>12.106912</td>\n",
       "      <td>0.113002</td>\n",
       "    </tr>\n",
       "    <tr>\n",
       "      <th>3</th>\n",
       "      <td>KNN 1</td>\n",
       "      <td>262.429953</td>\n",
       "      <td>16.199690</td>\n",
       "      <td>12.301575</td>\n",
       "      <td>0.088670</td>\n",
       "    </tr>\n",
       "    <tr>\n",
       "      <th>4</th>\n",
       "      <td>SVR 1</td>\n",
       "      <td>287.386498</td>\n",
       "      <td>16.952478</td>\n",
       "      <td>12.047333</td>\n",
       "      <td>0.002005</td>\n",
       "    </tr>\n",
       "    <tr>\n",
       "      <th>5</th>\n",
       "      <td>Linear regresion 2</td>\n",
       "      <td>273.013315</td>\n",
       "      <td>16.421167</td>\n",
       "      <td>12.471180</td>\n",
       "      <td>0.213844</td>\n",
       "    </tr>\n",
       "    <tr>\n",
       "      <th>6</th>\n",
       "      <td>Decision Tree 2</td>\n",
       "      <td>496.113959</td>\n",
       "      <td>22.546669</td>\n",
       "      <td>16.635316</td>\n",
       "      <td>0.569588</td>\n",
       "    </tr>\n",
       "    <tr>\n",
       "      <th>7</th>\n",
       "      <td>Random Forest 2</td>\n",
       "      <td>293.694415</td>\n",
       "      <td>16.995151</td>\n",
       "      <td>12.717679</td>\n",
       "      <td>0.151882</td>\n",
       "    </tr>\n",
       "    <tr>\n",
       "      <th>8</th>\n",
       "      <td>KNN 2</td>\n",
       "      <td>315.150803</td>\n",
       "      <td>17.644022</td>\n",
       "      <td>13.145371</td>\n",
       "      <td>0.092622</td>\n",
       "    </tr>\n",
       "    <tr>\n",
       "      <th>9</th>\n",
       "      <td>SVR 2</td>\n",
       "      <td>345.661758</td>\n",
       "      <td>18.478688</td>\n",
       "      <td>12.951373</td>\n",
       "      <td>0.004480</td>\n",
       "    </tr>\n",
       "    <tr>\n",
       "      <th>10</th>\n",
       "      <td>Linear Regression 3</td>\n",
       "      <td>274.988174</td>\n",
       "      <td>16.366780</td>\n",
       "      <td>12.487079</td>\n",
       "      <td>0.178003</td>\n",
       "    </tr>\n",
       "    <tr>\n",
       "      <th>11</th>\n",
       "      <td>Decision Tree 3</td>\n",
       "      <td>505.807687</td>\n",
       "      <td>22.446467</td>\n",
       "      <td>16.322866</td>\n",
       "      <td>-0.644545</td>\n",
       "    </tr>\n",
       "    <tr>\n",
       "      <th>12</th>\n",
       "      <td>Random Forest 3</td>\n",
       "      <td>287.883334</td>\n",
       "      <td>16.845028</td>\n",
       "      <td>12.659685</td>\n",
       "      <td>0.117308</td>\n",
       "    </tr>\n",
       "    <tr>\n",
       "      <th>13</th>\n",
       "      <td>KNN 3</td>\n",
       "      <td>314.887360</td>\n",
       "      <td>17.567414</td>\n",
       "      <td>13.135723</td>\n",
       "      <td>0.040231</td>\n",
       "    </tr>\n",
       "    <tr>\n",
       "      <th>14</th>\n",
       "      <td>SVR 3</td>\n",
       "      <td>340.652668</td>\n",
       "      <td>18.054683</td>\n",
       "      <td>12.792658</td>\n",
       "      <td>0.021542</td>\n",
       "    </tr>\n",
       "  </tbody>\n",
       "</table>\n",
       "</div>"
      ],
      "text/plain": [
       "                  Model         MSE       RMSE        MAE        R2\n",
       "0    Linear regresion 1  213.351123  14.606544  11.178039  0.259104\n",
       "1       Decision Tree 1  473.737874  21.765520  16.977165 -0.645130\n",
       "2       Random Forest 1  255.423247  15.981966  12.106912  0.113002\n",
       "3                 KNN 1  262.429953  16.199690  12.301575  0.088670\n",
       "4                 SVR 1  287.386498  16.952478  12.047333  0.002005\n",
       "5    Linear regresion 2  273.013315  16.421167  12.471180  0.213844\n",
       "6       Decision Tree 2  496.113959  22.546669  16.635316  0.569588\n",
       "7       Random Forest 2  293.694415  16.995151  12.717679  0.151882\n",
       "8                 KNN 2  315.150803  17.644022  13.145371  0.092622\n",
       "9                 SVR 2  345.661758  18.478688  12.951373  0.004480\n",
       "10  Linear Regression 3  274.988174  16.366780  12.487079  0.178003\n",
       "11     Decision Tree 3   505.807687  22.446467  16.322866 -0.644545\n",
       "12      Random Forest 3  287.883334  16.845028  12.659685  0.117308\n",
       "13                KNN 3  314.887360  17.567414  13.135723  0.040231\n",
       "14                SVR 3  340.652668  18.054683  12.792658  0.021542"
      ]
     },
     "execution_count": 31,
     "metadata": {},
     "output_type": "execute_result"
    }
   ],
   "source": [
    "results2"
   ]
  },
  {
   "cell_type": "code",
   "execution_count": 38,
   "metadata": {},
   "outputs": [
    {
     "data": {
      "text/plain": [
       "([None,\n",
       "  None,\n",
       "  None,\n",
       "  None,\n",
       "  None,\n",
       "  None,\n",
       "  None,\n",
       "  None,\n",
       "  None,\n",
       "  None,\n",
       "  None,\n",
       "  None,\n",
       "  None,\n",
       "  None,\n",
       "  None,\n",
       "  None,\n",
       "  None,\n",
       "  None,\n",
       "  None,\n",
       "  None,\n",
       "  None,\n",
       "  None,\n",
       "  None,\n",
       "  None,\n",
       "  None,\n",
       "  None,\n",
       "  None,\n",
       "  None,\n",
       "  None,\n",
       "  None,\n",
       "  None,\n",
       "  None],\n",
       " None)"
      ]
     },
     "execution_count": 38,
     "metadata": {},
     "output_type": "execute_result"
    },
    {
     "data": {
      "image/png": "[encoded data removed]",
      "text/plain": [
       "<Figure size 864x864 with 1 Axes>"
      ]
     },
     "metadata": {
      "needs_background": "light"
     },
     "output_type": "display_data"
    }
   ],
   "source": [
    "import seaborn as sns\n",
    "x, y, hue = 'MAE', 'RMSE', 'Model'\n",
    "plt.rcParams['figure.figsize']=(12,12)\n",
    "#sns.set_style(\"white\"), sns.set_style(\"ticks\")\n",
    "ax = sns.scatterplot(x= x, y=y, data = results2, hue = hue, palette=\"husl\", s=200, legend=\"brief\")\n",
    "#ax.set_xlabel(x,fontsize=20), ax.set_ylabel(y,fontsize=20) \n",
    "ax.set(ylim=(13, 23), xlim=(10,18)) \n",
    "plt.legend(loc='lower right')\n",
    "plt.setp(ax.get_legend().get_texts(), fontsize='15'), sns.despine()"
   ]
  },
  {
   "cell_type": "code",
   "execution_count": null,
   "metadata": {},
   "outputs": [],
   "source": []
  }
 ],
 "metadata": {
  "kernelspec": {
   "display_name": "Python 3",
   "language": "python",
   "name": "python3"
  },
  "language_info": {
   "codemirror_mode": {
    "name": "ipython",
    "version": 3
   },
   "file_extension": ".py",
   "mimetype": "text/x-python",
   "name": "python",
   "nbconvert_exporter": "python",
   "pygments_lexer": "ipython3",
   "version": "3.8.3"
  }
 },
 "nbformat": 4,
 "nbformat_minor": 4
}
