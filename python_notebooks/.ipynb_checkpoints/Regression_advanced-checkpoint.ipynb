{
 "cells": [
  {
   "cell_type": "code",
   "execution_count": 1,
   "metadata": {},
   "outputs": [
    {
     "data": {
      "text/html": [
       "<div>\n",
       "<style scoped>\n",
       "    .dataframe tbody tr th:only-of-type {\n",
       "        vertical-align: middle;\n",
       "    }\n",
       "\n",
       "    .dataframe tbody tr th {\n",
       "        vertical-align: top;\n",
       "    }\n",
       "\n",
       "    .dataframe thead th {\n",
       "        text-align: right;\n",
       "    }\n",
       "</style>\n",
       "<table border=\"1\" class=\"dataframe\">\n",
       "  <thead>\n",
       "    <tr style=\"text-align: right;\">\n",
       "      <th></th>\n",
       "      <th>Gender</th>\n",
       "      <th>IAH</th>\n",
       "      <th>Weight</th>\n",
       "      <th>Height</th>\n",
       "      <th>Age</th>\n",
       "      <th>Cervical</th>\n",
       "      <th>BMI</th>\n",
       "    </tr>\n",
       "    <tr>\n",
       "      <th>Patient</th>\n",
       "      <th></th>\n",
       "      <th></th>\n",
       "      <th></th>\n",
       "      <th></th>\n",
       "      <th></th>\n",
       "      <th></th>\n",
       "      <th></th>\n",
       "    </tr>\n",
       "  </thead>\n",
       "  <tbody>\n",
       "    <tr>\n",
       "      <th>P0002</th>\n",
       "      <td>1</td>\n",
       "      <td>29.6</td>\n",
       "      <td>119</td>\n",
       "      <td>174</td>\n",
       "      <td>56</td>\n",
       "      <td>48.0</td>\n",
       "      <td>0.003931</td>\n",
       "    </tr>\n",
       "    <tr>\n",
       "      <th>P0004</th>\n",
       "      <td>1</td>\n",
       "      <td>19.7</td>\n",
       "      <td>78</td>\n",
       "      <td>168</td>\n",
       "      <td>39</td>\n",
       "      <td>42.0</td>\n",
       "      <td>0.002764</td>\n",
       "    </tr>\n",
       "    <tr>\n",
       "      <th>P0005</th>\n",
       "      <td>1</td>\n",
       "      <td>9.0</td>\n",
       "      <td>80</td>\n",
       "      <td>173</td>\n",
       "      <td>32</td>\n",
       "      <td>40.0</td>\n",
       "      <td>0.002673</td>\n",
       "    </tr>\n",
       "    <tr>\n",
       "      <th>P0006</th>\n",
       "      <td>1</td>\n",
       "      <td>2.0</td>\n",
       "      <td>109</td>\n",
       "      <td>190</td>\n",
       "      <td>32</td>\n",
       "      <td>42.0</td>\n",
       "      <td>0.003019</td>\n",
       "    </tr>\n",
       "    <tr>\n",
       "      <th>P0007</th>\n",
       "      <td>1</td>\n",
       "      <td>34.0</td>\n",
       "      <td>86</td>\n",
       "      <td>169</td>\n",
       "      <td>39</td>\n",
       "      <td>42.0</td>\n",
       "      <td>0.003011</td>\n",
       "    </tr>\n",
       "  </tbody>\n",
       "</table>\n",
       "</div>"
      ],
      "text/plain": [
       "         Gender   IAH  Weight  Height  Age  Cervical       BMI\n",
       "Patient                                                       \n",
       "P0002         1  29.6     119     174   56      48.0  0.003931\n",
       "P0004         1  19.7      78     168   39      42.0  0.002764\n",
       "P0005         1   9.0      80     173   32      40.0  0.002673\n",
       "P0006         1   2.0     109     190   32      42.0  0.003019\n",
       "P0007         1  34.0      86     169   39      42.0  0.003011"
      ]
     },
     "execution_count": 1,
     "metadata": {},
     "output_type": "execute_result"
    }
   ],
   "source": [
    "import pandas as pd\n",
    "import numpy as np\n",
    "\n",
    "file = '../../../DATA/OSA_python.xlsx'\n",
    "data = pd.read_excel(file)\n",
    "df = pd.DataFrame(data)\n",
    "df.set_index('Patient', inplace=True)\n",
    "df.head()"
   ]
  },
  {
   "cell_type": "code",
   "execution_count": 2,
   "metadata": {},
   "outputs": [],
   "source": [
    "#features \n",
    "predictors = ['Gender', 'Weight', 'Height', 'Age', 'Cervical', 'BMI']\n",
    "x = df[predictors].values\n",
    "y = df['IAH'].values"
   ]
  },
  {
   "cell_type": "markdown",
   "metadata": {},
   "source": [
    "# Gridsearch CV for KNN"
   ]
  },
  {
   "cell_type": "code",
   "execution_count": null,
   "metadata": {},
   "outputs": [],
   "source": [
    "from sklearn.model_selection import GridSearchCV\n",
    "from sklearn.neighbors import KNeighborsRegressor\n",
    "#create new a knn model\n",
    "knn2 = KNeighborsRegressor()\n",
    "#create a dictionary of all values we want to test for n_neighbors\n",
    "param_grid = {'n_neighbors': np.arange(1, 25)}\n",
    "#use gridsearch to test all values for n_neighbors\n",
    "knn_gscv = GridSearchCV(knn2, param_grid, cv=5)\n",
    "#fit model to data\n",
    "knn_gscv.fit(x, y)"
   ]
  },
  {
   "cell_type": "code",
   "execution_count": null,
   "metadata": {},
   "outputs": [],
   "source": [
    "#check top performing n_neighbors value\n",
    "knn_gscv.best_params_"
   ]
  },
  {
   "cell_type": "code",
   "execution_count": null,
   "metadata": {},
   "outputs": [],
   "source": [
    "#check mean score for the top performing value of n_neighbors\n",
    "knn_gscv.best_score_"
   ]
  },
  {
   "cell_type": "markdown",
   "metadata": {},
   "source": [
    "## KNN experiments"
   ]
  },
  {
   "cell_type": "code",
   "execution_count": 3,
   "metadata": {},
   "outputs": [],
   "source": [
    "results2 = pd.DataFrame({'Model': [],\n",
    "                        'MSE':   [],\n",
    "                        'RMSE': [],\n",
    "                        'MAE': [],\n",
    "                        'R2': []})"
   ]
  },
  {
   "cell_type": "code",
   "execution_count": null,
   "metadata": {},
   "outputs": [],
   "source": [
    "results2"
   ]
  },
  {
   "cell_type": "code",
   "execution_count": 5,
   "metadata": {},
   "outputs": [
    {
     "name": "stdout",
     "output_type": "stream",
     "text": [
      "Start training models of KNN with std neighbors\n",
      "Iteration 1:mae=11.9313 mse=227.3366 rmse=15.0777 r2=0.2330\n",
      "Iteration 2:mae=12.2272 mse=252.2628 rmse=15.8828 r2=-0.2470\n",
      "Iteration 3:mae=15.2530 mse=460.8271 rmse=21.4669 r2=0.1254\n",
      "Iteration 4:mae=11.7098 mse=250.3524 rmse=15.8225 r2=-0.0018\n",
      "Iteration 5:mae=14.5573 mse=383.6579 rmse=19.5872 r2=0.0915\n",
      "Global: mae=13.1357 mse=314.8874 rmse=17.5674 r2=0.0402\n",
      "\n",
      "Start training models of KNN with custom neigh + uniform weight\n",
      "Iteration 1:mae=11.8919 mse=218.8192 rmse=14.7925 r2=0.2618\n",
      "Iteration 2:mae=11.2508 mse=197.3553 rmse=14.0483 r2=0.0244\n",
      "Iteration 3:mae=15.4310 mse=443.9632 rmse=21.0704 r2=0.1574\n",
      "Iteration 4:mae=11.1970 mse=203.3955 rmse=14.2617 r2=0.1861\n",
      "Iteration 5:mae=13.8960 mse=366.4598 rmse=19.1431 r2=0.1322\n",
      "Global: mae=12.7333 mse=285.9986 rmse=16.6632 r2=0.1524\n",
      "\n",
      "Start training models of KNN with custom neigh + distance-based weight \n",
      "Iteration 1:mae=11.7532 mse=213.2737 rmse=14.6039 r2=0.2805\n",
      "Iteration 2:mae=11.1311 mse=198.5753 rmse=14.0917 r2=0.0184\n",
      "Iteration 3:mae=15.2241 mse=440.9284 rmse=20.9983 r2=0.1632\n",
      "Iteration 4:mae=11.1904 mse=206.7437 rmse=14.3786 r2=0.1727\n",
      "Iteration 5:mae=13.9124 mse=363.2170 rmse=19.0583 r2=0.1399\n",
      "Global: mae=12.6422 mse=284.5476 rmse=16.6261 r2=0.1549\n",
      "\n"
     ]
    }
   ],
   "source": [
    "import numpy as np\n",
    "import matplotlib.pyplot as plt\n",
    "from sklearn.neighbors import KNeighborsRegressor\n",
    "\n",
    "from sklearn.metrics import  mean_absolute_error, mean_squared_error, max_error, r2_score\n",
    "from sklearn import model_selection\n",
    "#from sklearn import datasets\n",
    "from sklearn.model_selection import KFold\n",
    "\n",
    "\n",
    "models = {\"KNN with std neighbors\":KNeighborsRegressor(n_neighbors=5),\n",
    "          \"KNN with custom neigh + uniform weight\":KNeighborsRegressor(n_neighbors=24), \\\n",
    "          \"KNN with custom neigh + distance-based weight \": KNeighborsRegressor(n_neighbors=24, weights='distance')}\n",
    "\n",
    "\n",
    "j=0\n",
    "for name in models:\n",
    "    print(\"Start training models of {}\".format(name))\n",
    "    k = 5\n",
    "    kf = KFold(n_splits=k)\n",
    "    precisions = []\n",
    "    i = 0\n",
    "    mae_global = []\n",
    "    mse_global = []\n",
    "    rmse_global = []\n",
    "    r2_global = []\n",
    "    \n",
    "    for train, test in kf.split(x):\n",
    "        i+=1\n",
    "        x_train, x_test = x[train], x[test]\n",
    "        y_train, y_test = y[train], y[test]\n",
    "        model = models[name].fit(x_train,y_train)\n",
    "        y_out = model.predict(x_test)\n",
    "\n",
    "        mae = mean_absolute_error(y_test, y_out)\n",
    "        mse = mean_squared_error(y_test, y_out)\n",
    "        rmse = mean_squared_error(y_test, y_out, squared=False)\n",
    "        r2 = r2_score(y_test, y_out)\n",
    "        \n",
    "        mae_global.append(mae)\n",
    "        mse_global.append(mse)\n",
    "        rmse_global.append(rmse)\n",
    "        r2_global.append(r2)\n",
    "        \n",
    "        results2.loc[j] = [name, np.average(mse_global), np.average(rmse_global), np.average(mae_global), np.average(r2_global)]\n",
    "        \n",
    "        print(\"Iteration {}:mae={:.4f} mse={:.4f} rmse={:.4f} r2={:.4f}\".format(i, mae, mse, rmse, r2))\n",
    "    j+=1\n",
    "    print(\"Global: mae={:.4f} mse={:.4f} rmse={:.4f} r2={:.4f}\\n\".format(np.average(mae_global), np.average(mse_global), np.average(rmse_global), np.average(r2_global)))"
   ]
  },
  {
   "cell_type": "code",
   "execution_count": 6,
   "metadata": {},
   "outputs": [
    {
     "data": {
      "text/html": [
       "<div>\n",
       "<style scoped>\n",
       "    .dataframe tbody tr th:only-of-type {\n",
       "        vertical-align: middle;\n",
       "    }\n",
       "\n",
       "    .dataframe tbody tr th {\n",
       "        vertical-align: top;\n",
       "    }\n",
       "\n",
       "    .dataframe thead th {\n",
       "        text-align: right;\n",
       "    }\n",
       "</style>\n",
       "<table border=\"1\" class=\"dataframe\">\n",
       "  <thead>\n",
       "    <tr style=\"text-align: right;\">\n",
       "      <th></th>\n",
       "      <th>Model</th>\n",
       "      <th>MSE</th>\n",
       "      <th>RMSE</th>\n",
       "      <th>MAE</th>\n",
       "      <th>R2</th>\n",
       "    </tr>\n",
       "  </thead>\n",
       "  <tbody>\n",
       "    <tr>\n",
       "      <th>0</th>\n",
       "      <td>KNN with std neighbors</td>\n",
       "      <td>314.887360</td>\n",
       "      <td>17.567414</td>\n",
       "      <td>13.135723</td>\n",
       "      <td>0.040231</td>\n",
       "    </tr>\n",
       "    <tr>\n",
       "      <th>1</th>\n",
       "      <td>KNN with custom neigh + uniform weight</td>\n",
       "      <td>285.998600</td>\n",
       "      <td>16.663223</td>\n",
       "      <td>12.733346</td>\n",
       "      <td>0.152389</td>\n",
       "    </tr>\n",
       "    <tr>\n",
       "      <th>2</th>\n",
       "      <td>KNN with custom neigh + distance-based weight</td>\n",
       "      <td>284.547617</td>\n",
       "      <td>16.626140</td>\n",
       "      <td>12.642243</td>\n",
       "      <td>0.154933</td>\n",
       "    </tr>\n",
       "  </tbody>\n",
       "</table>\n",
       "</div>"
      ],
      "text/plain": [
       "                                            Model         MSE       RMSE  \\\n",
       "0                          KNN with std neighbors  314.887360  17.567414   \n",
       "1          KNN with custom neigh + uniform weight  285.998600  16.663223   \n",
       "2  KNN with custom neigh + distance-based weight   284.547617  16.626140   \n",
       "\n",
       "         MAE        R2  \n",
       "0  13.135723  0.040231  \n",
       "1  12.733346  0.152389  \n",
       "2  12.642243  0.154933  "
      ]
     },
     "execution_count": 6,
     "metadata": {},
     "output_type": "execute_result"
    }
   ],
   "source": [
    "results2"
   ]
  },
  {
   "cell_type": "code",
   "execution_count": 7,
   "metadata": {},
   "outputs": [
    {
     "data": {
      "text/plain": [
       "([None, None, None, None, None, None, None, None], None)"
      ]
     },
     "execution_count": 7,
     "metadata": {},
     "output_type": "execute_result"
    },
    {
     "data": {
      "image/png": "[encoded data removed]",
      "text/plain": [
       "<Figure size 864x864 with 1 Axes>"
      ]
     },
     "metadata": {},
     "output_type": "display_data"
    }
   ],
   "source": [
    "import seaborn as sns\n",
    "x, y, hue = 'MAE', 'R2', 'Model'\n",
    "plt.rcParams['figure.figsize']=(12,12)\n",
    "sns.set_style(\"white\"), sns.set_style(\"ticks\")\n",
    "ax = sns.scatterplot(x= x, y=y, data = results2, hue = hue, palette=\"husl\", legend=\"brief\")\n",
    "#ax.set_xlabel(x,fontsize=20), ax.set_ylabel(y,fontsize=20) \n",
    "ax.set(ylim=(0, 0.22), xlim=(12,15)) \n",
    "plt.legend(loc='lower right')\n",
    "plt.setp(ax.get_legend().get_texts(), fontsize='15'), sns.despine()"
   ]
  },
  {
   "cell_type": "code",
   "execution_count": null,
   "metadata": {},
   "outputs": [],
   "source": []
  }
 ],
 "metadata": {
  "kernelspec": {
   "display_name": "Python 3",
   "language": "python",
   "name": "python3"
  },
  "language_info": {
   "codemirror_mode": {
    "name": "ipython",
    "version": 3
   },
   "file_extension": ".py",
   "mimetype": "text/x-python",
   "name": "python",
   "nbconvert_exporter": "python",
   "pygments_lexer": "ipython3",
   "version": "3.8.3"
  }
 },
 "nbformat": 4,
 "nbformat_minor": 4
}
