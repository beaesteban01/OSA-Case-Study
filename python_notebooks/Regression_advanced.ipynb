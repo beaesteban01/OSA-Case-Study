{
 "cells": [
  {
   "cell_type": "code",
   "execution_count": 1,
   "metadata": {},
   "outputs": [
    {
     "data": {
      "text/html": [
       "<div>\n",
       "<style scoped>\n",
       "    .dataframe tbody tr th:only-of-type {\n",
       "        vertical-align: middle;\n",
       "    }\n",
       "\n",
       "    .dataframe tbody tr th {\n",
       "        vertical-align: top;\n",
       "    }\n",
       "\n",
       "    .dataframe thead th {\n",
       "        text-align: right;\n",
       "    }\n",
       "</style>\n",
       "<table border=\"1\" class=\"dataframe\">\n",
       "  <thead>\n",
       "    <tr style=\"text-align: right;\">\n",
       "      <th></th>\n",
       "      <th>Gender</th>\n",
       "      <th>IAH</th>\n",
       "      <th>Weight</th>\n",
       "      <th>Height</th>\n",
       "      <th>Age</th>\n",
       "      <th>Cervical</th>\n",
       "      <th>BMI</th>\n",
       "    </tr>\n",
       "    <tr>\n",
       "      <th>Patient</th>\n",
       "      <th></th>\n",
       "      <th></th>\n",
       "      <th></th>\n",
       "      <th></th>\n",
       "      <th></th>\n",
       "      <th></th>\n",
       "      <th></th>\n",
       "    </tr>\n",
       "  </thead>\n",
       "  <tbody>\n",
       "    <tr>\n",
       "      <th>P0002</th>\n",
       "      <td>1</td>\n",
       "      <td>29.6</td>\n",
       "      <td>119</td>\n",
       "      <td>174</td>\n",
       "      <td>56</td>\n",
       "      <td>48.0</td>\n",
       "      <td>0.003931</td>\n",
       "    </tr>\n",
       "    <tr>\n",
       "      <th>P0004</th>\n",
       "      <td>1</td>\n",
       "      <td>19.7</td>\n",
       "      <td>78</td>\n",
       "      <td>168</td>\n",
       "      <td>39</td>\n",
       "      <td>42.0</td>\n",
       "      <td>0.002764</td>\n",
       "    </tr>\n",
       "    <tr>\n",
       "      <th>P0005</th>\n",
       "      <td>1</td>\n",
       "      <td>9.0</td>\n",
       "      <td>80</td>\n",
       "      <td>173</td>\n",
       "      <td>32</td>\n",
       "      <td>40.0</td>\n",
       "      <td>0.002673</td>\n",
       "    </tr>\n",
       "    <tr>\n",
       "      <th>P0006</th>\n",
       "      <td>1</td>\n",
       "      <td>2.0</td>\n",
       "      <td>109</td>\n",
       "      <td>190</td>\n",
       "      <td>32</td>\n",
       "      <td>42.0</td>\n",
       "      <td>0.003019</td>\n",
       "    </tr>\n",
       "    <tr>\n",
       "      <th>P0007</th>\n",
       "      <td>1</td>\n",
       "      <td>34.0</td>\n",
       "      <td>86</td>\n",
       "      <td>169</td>\n",
       "      <td>39</td>\n",
       "      <td>42.0</td>\n",
       "      <td>0.003011</td>\n",
       "    </tr>\n",
       "  </tbody>\n",
       "</table>\n",
       "</div>"
      ],
      "text/plain": [
       "         Gender   IAH  Weight  Height  Age  Cervical       BMI\n",
       "Patient                                                       \n",
       "P0002         1  29.6     119     174   56      48.0  0.003931\n",
       "P0004         1  19.7      78     168   39      42.0  0.002764\n",
       "P0005         1   9.0      80     173   32      40.0  0.002673\n",
       "P0006         1   2.0     109     190   32      42.0  0.003019\n",
       "P0007         1  34.0      86     169   39      42.0  0.003011"
      ]
     },
     "execution_count": 1,
     "metadata": {},
     "output_type": "execute_result"
    }
   ],
   "source": [
    "import pandas as pd\n",
    "import numpy as np\n",
    "\n",
    "file = '../../../DATA/OSA_python.xlsx'\n",
    "data = pd.read_excel(file)\n",
    "df = pd.DataFrame(data)\n",
    "df.set_index('Patient', inplace=True)\n",
    "df.head()"
   ]
  },
  {
   "cell_type": "code",
   "execution_count": 2,
   "metadata": {},
   "outputs": [],
   "source": [
    "#features \n",
    "predictors = ['Gender', 'Weight', 'Height', 'Age', 'Cervical', 'BMI']\n",
    "x = df[predictors].values\n",
    "y = df['IAH'].values"
   ]
  },
  {
   "cell_type": "markdown",
   "metadata": {},
   "source": [
    "# Gridsearch CV for KNN"
   ]
  },
  {
   "cell_type": "code",
   "execution_count": null,
   "metadata": {},
   "outputs": [],
   "source": [
    "from sklearn.model_selection import GridSearchCV\n",
    "from sklearn.neighbors import KNeighborsRegressor\n",
    "#create new a knn model\n",
    "knn2 = KNeighborsRegressor()\n",
    "#create a dictionary of all values we want to test for n_neighbors\n",
    "param_grid = {'n_neighbors': np.arange(1, 25)}\n",
    "#use gridsearch to test all values for n_neighbors\n",
    "knn_gscv = GridSearchCV(knn2, param_grid, cv=5)\n",
    "#fit model to data\n",
    "knn_gscv.fit(x, y)"
   ]
  },
  {
   "cell_type": "code",
   "execution_count": null,
   "metadata": {},
   "outputs": [],
   "source": [
    "#check top performing n_neighbors value\n",
    "knn_gscv.best_params_"
   ]
  },
  {
   "cell_type": "code",
   "execution_count": null,
   "metadata": {},
   "outputs": [],
   "source": [
    "#check mean score for the top performing value of n_neighbors\n",
    "knn_gscv.best_score_"
   ]
  },
  {
   "cell_type": "markdown",
   "metadata": {},
   "source": [
    "## KNN experiments"
   ]
  },
  {
   "cell_type": "code",
   "execution_count": 3,
   "metadata": {},
   "outputs": [],
   "source": [
    "results2 = pd.DataFrame({'Model': [],\n",
    "                        'MSE':   [],\n",
    "                        'RMSE': [],\n",
    "                        'MAE': [],\n",
    "                        'R2': []})"
   ]
  },
  {
   "cell_type": "code",
   "execution_count": null,
   "metadata": {},
   "outputs": [],
   "source": [
    "results2"
   ]
  },
  {
   "cell_type": "code",
   "execution_count": 5,
   "metadata": {},
   "outputs": [
    {
     "name": "stdout",
     "output_type": "stream",
     "text": [
      "Start training models of KNN with std neighbors\n",
      "Iteration 1:mae=11.9313 mse=227.3366 rmse=15.0777 r2=0.2330\n",
      "Iteration 2:mae=12.2272 mse=252.2628 rmse=15.8828 r2=-0.2470\n",
      "Iteration 3:mae=15.2530 mse=460.8271 rmse=21.4669 r2=0.1254\n",
      "Iteration 4:mae=11.7098 mse=250.3524 rmse=15.8225 r2=-0.0018\n",
      "Iteration 5:mae=14.5573 mse=383.6579 rmse=19.5872 r2=0.0915\n",
      "Global: mae=13.1357 mse=314.8874 rmse=17.5674 r2=0.0402\n",
      "\n",
      "Start training models of KNN with custom neigh + uniform weight\n",
      "Iteration 1:mae=11.8919 mse=218.8192 rmse=14.7925 r2=0.2618\n",
      "Iteration 2:mae=11.2508 mse=197.3553 rmse=14.0483 r2=0.0244\n",
      "Iteration 3:mae=15.4310 mse=443.9632 rmse=21.0704 r2=0.1574\n",
      "Iteration 4:mae=11.1970 mse=203.3955 rmse=14.2617 r2=0.1861\n",
      "Iteration 5:mae=13.8960 mse=366.4598 rmse=19.1431 r2=0.1322\n",
      "Global: mae=12.7333 mse=285.9986 rmse=16.6632 r2=0.1524\n",
      "\n",
      "Start training models of KNN with custom neigh + distance-based weight \n",
      "Iteration 1:mae=11.7532 mse=213.2737 rmse=14.6039 r2=0.2805\n",
      "Iteration 2:mae=11.1311 mse=198.5753 rmse=14.0917 r2=0.0184\n",
      "Iteration 3:mae=15.2241 mse=440.9284 rmse=20.9983 r2=0.1632\n",
      "Iteration 4:mae=11.1904 mse=206.7437 rmse=14.3786 r2=0.1727\n",
      "Iteration 5:mae=13.9124 mse=363.2170 rmse=19.0583 r2=0.1399\n",
      "Global: mae=12.6422 mse=284.5476 rmse=16.6261 r2=0.1549\n",
      "\n"
     ]
    }
   ],
   "source": [
    "import numpy as np\n",
    "import matplotlib.pyplot as plt\n",
    "from sklearn.neighbors import KNeighborsRegressor\n",
    "\n",
    "from sklearn.metrics import  mean_absolute_error, mean_squared_error, max_error, r2_score\n",
    "from sklearn import model_selection\n",
    "#from sklearn import datasets\n",
    "from sklearn.model_selection import KFold\n",
    "\n",
    "\n",
    "models = {\"KNN with std neighbors\":KNeighborsRegressor(n_neighbors=5),\n",
    "          \"KNN with custom neigh + uniform weight\":KNeighborsRegressor(n_neighbors=24), \\\n",
    "          \"KNN with custom neigh + distance-based weight \": KNeighborsRegressor(n_neighbors=24, weights='distance')}\n",
    "\n",
    "\n",
    "j=0\n",
    "for name in models:\n",
    "    print(\"Start training models of {}\".format(name))\n",
    "    k = 5\n",
    "    kf = KFold(n_splits=k)\n",
    "    precisions = []\n",
    "    i = 0\n",
    "    mae_global = []\n",
    "    mse_global = []\n",
    "    rmse_global = []\n",
    "    r2_global = []\n",
    "    \n",
    "    for train, test in kf.split(x):\n",
    "        i+=1\n",
    "        x_train, x_test = x[train], x[test]\n",
    "        y_train, y_test = y[train], y[test]\n",
    "        model = models[name].fit(x_train,y_train)\n",
    "        y_out = model.predict(x_test)\n",
    "\n",
    "        mae = mean_absolute_error(y_test, y_out)\n",
    "        mse = mean_squared_error(y_test, y_out)\n",
    "        rmse = mean_squared_error(y_test, y_out, squared=False)\n",
    "        r2 = r2_score(y_test, y_out)\n",
    "        \n",
    "        mae_global.append(mae)\n",
    "        mse_global.append(mse)\n",
    "        rmse_global.append(rmse)\n",
    "        r2_global.append(r2)\n",
    "        \n",
    "        results2.loc[j] = [name, np.average(mse_global), np.average(rmse_global), np.average(mae_global), np.average(r2_global)]\n",
    "        \n",
    "        print(\"Iteration {}:mae={:.4f} mse={:.4f} rmse={:.4f} r2={:.4f}\".format(i, mae, mse, rmse, r2))\n",
    "    j+=1\n",
    "    print(\"Global: mae={:.4f} mse={:.4f} rmse={:.4f} r2={:.4f}\\n\".format(np.average(mae_global), np.average(mse_global), np.average(rmse_global), np.average(r2_global)))"
   ]
  },
  {
   "cell_type": "code",
   "execution_count": 6,
   "metadata": {},
   "outputs": [
    {
     "data": {
      "text/html": [
       "<div>\n",
       "<style scoped>\n",
       "    .dataframe tbody tr th:only-of-type {\n",
       "        vertical-align: middle;\n",
       "    }\n",
       "\n",
       "    .dataframe tbody tr th {\n",
       "        vertical-align: top;\n",
       "    }\n",
       "\n",
       "    .dataframe thead th {\n",
       "        text-align: right;\n",
       "    }\n",
       "</style>\n",
       "<table border=\"1\" class=\"dataframe\">\n",
       "  <thead>\n",
       "    <tr style=\"text-align: right;\">\n",
       "      <th></th>\n",
       "      <th>Model</th>\n",
       "      <th>MSE</th>\n",
       "      <th>RMSE</th>\n",
       "      <th>MAE</th>\n",
       "      <th>R2</th>\n",
       "    </tr>\n",
       "  </thead>\n",
       "  <tbody>\n",
       "    <tr>\n",
       "      <th>0</th>\n",
       "      <td>KNN with std neighbors</td>\n",
       "      <td>314.887360</td>\n",
       "      <td>17.567414</td>\n",
       "      <td>13.135723</td>\n",
       "      <td>0.040231</td>\n",
       "    </tr>\n",
       "    <tr>\n",
       "      <th>1</th>\n",
       "      <td>KNN with custom neigh + uniform weight</td>\n",
       "      <td>285.998600</td>\n",
       "      <td>16.663223</td>\n",
       "      <td>12.733346</td>\n",
       "      <td>0.152389</td>\n",
       "    </tr>\n",
       "    <tr>\n",
       "      <th>2</th>\n",
       "      <td>KNN with custom neigh + distance-based weight</td>\n",
       "      <td>284.547617</td>\n",
       "      <td>16.626140</td>\n",
       "      <td>12.642243</td>\n",
       "      <td>0.154933</td>\n",
       "    </tr>\n",
       "  </tbody>\n",
       "</table>\n",
       "</div>"
      ],
      "text/plain": [
       "                                            Model         MSE       RMSE  \\\n",
       "0                          KNN with std neighbors  314.887360  17.567414   \n",
       "1          KNN with custom neigh + uniform weight  285.998600  16.663223   \n",
       "2  KNN with custom neigh + distance-based weight   284.547617  16.626140   \n",
       "\n",
       "         MAE        R2  \n",
       "0  13.135723  0.040231  \n",
       "1  12.733346  0.152389  \n",
       "2  12.642243  0.154933  "
      ]
     },
     "execution_count": 6,
     "metadata": {},
     "output_type": "execute_result"
    }
   ],
   "source": [
    "results2"
   ]
  },
  {
   "cell_type": "code",
   "execution_count": 26,
   "metadata": {},
   "outputs": [
    {
     "data": {
      "text/plain": [
       "(Text(0.5, 0, 'Model'), Text(0, 0.5, 'R2'))"
      ]
     },
     "execution_count": 26,
     "metadata": {},
     "output_type": "execute_result"
    },
    {
     "data": {
      "image/png": "[encoded data removed]",
      "text/plain": [
       "<Figure size 720x720 with 1 Axes>"
      ]
     },
     "metadata": {},
     "output_type": "display_data"
    }
   ],
   "source": [
    "import seaborn as sns\n",
    "y, x = 'R2', 'Model'\n",
    "plt.rcParams['figure.figsize']=(10,10)\n",
    "ax = sns.barplot(x=x, y=y, data=results2, palette=\"husl\")\n",
    "ax.set_xlabel(x,fontsize=20), ax.set_ylabel(y,fontsize=20) "
   ]
  },
  {
   "cell_type": "code",
   "execution_count": 27,
   "metadata": {},
   "outputs": [
    {
     "data": {
      "text/plain": [
       "([None, None, None, None, None, None, None, None], None)"
      ]
     },
     "execution_count": 27,
     "metadata": {},
     "output_type": "execute_result"
    },
    {
     "data": {
      "image/png": "[encoded data removed]",
      "text/plain": [
       "<Figure size 720x720 with 1 Axes>"
      ]
     },
     "metadata": {},
     "output_type": "display_data"
    }
   ],
   "source": [
    "import seaborn as sns\n",
    "x, y, hue = 'MAE', 'R2', 'Model'\n",
    "plt.rcParams['figure.figsize']=(10,10)\n",
    "sns.set_style(\"white\"), sns.set_style(\"ticks\")\n",
    "ax = sns.scatterplot(x= x, y=y, data = results2, hue = hue, palette=\"husl\", legend=\"brief\")\n",
    "#ax.set_xlabel(x,fontsize=20), ax.set_ylabel(y,fontsize=20) \n",
    "ax.set(ylim=(0, 0.22), xlim=(12,15)) \n",
    "plt.legend(loc='lower right')\n",
    "plt.setp(ax.get_legend().get_texts(), fontsize='15'), sns.despine()"
   ]
  },
  {
   "cell_type": "markdown",
   "metadata": {},
   "source": [
    "# Grid search for Random Forest"
   ]
  },
  {
   "cell_type": "code",
   "execution_count": 29,
   "metadata": {},
   "outputs": [],
   "source": [
    "#features \n",
    "predictors = ['Gender', 'Weight', 'Height', 'Age', 'Cervical', 'BMI']\n",
    "x = df[predictors].values\n",
    "y = df['IAH'].values"
   ]
  },
  {
   "cell_type": "code",
   "execution_count": 11,
   "metadata": {},
   "outputs": [
    {
     "data": {
      "text/plain": [
       "GridSearchCV(cv=5, estimator=RandomForestRegressor(),\n",
       "             param_grid={'n_estimators': array([100, 101, 102, 103, 104, 105, 106, 107, 108, 109, 110, 111, 112,\n",
       "       113, 114, 115, 116, 117, 118, 119, 120, 121, 122, 123, 124, 125,\n",
       "       126, 127, 128, 129, 130, 131, 132, 133, 134, 135, 136, 137, 138,\n",
       "       139, 140, 141, 142, 143, 144, 145, 146, 147, 148, 149, 150, 151,\n",
       "       152, 153, 154, 155, 156, 157, 158, 159, 160, 161, 162, 163, 164,\n",
       "       165, 166, 167, 168, 169, 170, 171, 172, 173, 174, 175, 176, 177,\n",
       "       178, 179, 180, 181, 182, 183, 184, 185, 186, 187, 188, 189, 190,\n",
       "       191, 192, 193, 194, 195, 196, 197, 198, 199])})"
      ]
     },
     "execution_count": 11,
     "metadata": {},
     "output_type": "execute_result"
    }
   ],
   "source": [
    "from sklearn.model_selection import GridSearchCV\n",
    "from sklearn.ensemble import RandomForestRegressor\n",
    "#create new a knn model\n",
    "random = RandomForestRegressor()\n",
    "#create a dictionary of all values we want to test for n_neighbors\n",
    "param_grid = {'n_estimators': np.arange(100, 200)}\n",
    "#use gridsearch to test all values for n_neighbors\n",
    "random_gscv = GridSearchCV(random, param_grid, cv=5)\n",
    "#fit model to data\n",
    "random_gscv.fit(x, y)"
   ]
  },
  {
   "cell_type": "code",
   "execution_count": 13,
   "metadata": {},
   "outputs": [
    {
     "data": {
      "text/plain": [
       "{'n_estimators': 149}"
      ]
     },
     "execution_count": 13,
     "metadata": {},
     "output_type": "execute_result"
    }
   ],
   "source": [
    "#check top performing n_neighbors value\n",
    "random_gscv.best_params_"
   ]
  },
  {
   "cell_type": "code",
   "execution_count": 14,
   "metadata": {},
   "outputs": [
    {
     "data": {
      "text/plain": [
       "0.14768418839443453"
      ]
     },
     "execution_count": 14,
     "metadata": {},
     "output_type": "execute_result"
    }
   ],
   "source": [
    "#check mean score for the top performing value of n_neighbors\n",
    "random_gscv.best_score_"
   ]
  },
  {
   "cell_type": "code",
   "execution_count": 30,
   "metadata": {},
   "outputs": [
    {
     "name": "stdout",
     "output_type": "stream",
     "text": [
      "Start training models of Rndm Forest default\n",
      "Iteration 1:mae=12.1063 mse=239.9743 rmse=15.4911 r2=0.1904\n",
      "Iteration 2:mae=11.7711 mse=218.5123 rmse=14.7822 r2=-0.0802\n",
      "Iteration 3:mae=14.5231 mse=395.8483 rmse=19.8959 r2=0.2488\n",
      "Iteration 4:mae=11.1970 mse=236.9708 rmse=15.3939 r2=0.0518\n",
      "Iteration 5:mae=13.4672 mse=332.3548 rmse=18.2306 r2=0.2130\n",
      "Global: mae=12.6129 mse=284.7321 rmse=16.7587 r2=0.1247\n",
      "\n",
      "Start training models of Rndm Forest custom estim\n",
      "Iteration 1:mae=12.1646 mse=240.3980 rmse=15.5048 r2=0.1890\n",
      "Iteration 2:mae=11.5087 mse=212.0381 rmse=14.5615 r2=-0.0482\n",
      "Iteration 3:mae=14.4858 mse=412.5273 rmse=20.3108 r2=0.2171\n",
      "Iteration 4:mae=11.2805 mse=231.1633 rmse=15.2041 r2=0.0750\n",
      "Iteration 5:mae=13.6829 mse=333.1014 rmse=18.2511 r2=0.2112\n",
      "Global: mae=12.6245 mse=285.8456 rmse=16.7664 r2=0.1288\n",
      "\n",
      "Start training models of Rndm Forest custom estim + custom rules\n",
      "Iteration 1:mae=12.2313 mse=244.8691 rmse=15.6483 r2=0.1739\n",
      "Iteration 2:mae=11.4574 mse=207.6821 rmse=14.4112 r2=-0.0267\n",
      "Iteration 3:mae=14.4552 mse=400.8018 rmse=20.0200 r2=0.2394\n",
      "Iteration 4:mae=11.2462 mse=233.3340 rmse=15.2753 r2=0.0663\n",
      "Iteration 5:mae=13.3737 mse=322.2734 rmse=17.9520 r2=0.2368\n",
      "Global: mae=12.5528 mse=281.7921 rmse=16.6614 r2=0.1380\n",
      "\n",
      "Start training models of Extra Random Tree default\n",
      "Iteration 1:mae=12.2063 mse=247.3364 rmse=15.7269 r2=0.1656\n",
      "Iteration 2:mae=12.1367 mse=260.2236 rmse=16.1314 r2=-0.2864\n",
      "Iteration 3:mae=14.5913 mse=405.8431 rmse=20.1455 r2=0.2298\n",
      "Iteration 4:mae=12.0333 mse=262.8385 rmse=16.2123 r2=-0.0517\n",
      "Iteration 5:mae=13.1985 mse=313.2540 rmse=17.6990 r2=0.2582\n",
      "Global: mae=12.8332 mse=297.8991 rmse=17.1830 r2=0.0631\n",
      "\n"
     ]
    }
   ],
   "source": [
    "import numpy as np\n",
    "import matplotlib.pyplot as plt\n",
    "from sklearn.ensemble import RandomForestRegressor, ExtraTreesRegressor\n",
    "\n",
    "from sklearn.metrics import  mean_absolute_error, mean_squared_error, max_error, r2_score\n",
    "from sklearn import model_selection\n",
    "#from sklearn import datasets\n",
    "from sklearn.model_selection import KFold\n",
    "\n",
    "\n",
    "models = {\"Rndm Forest default\":RandomForestRegressor(n_estimators=100),\n",
    "          \"Rndm Forest custom estim\":RandomForestRegressor(n_estimators=149), \\\n",
    "          \"Rndm Forest custom estim + custom rules\":RandomForestRegressor(n_estimators=149, max_features=None), \\\n",
    "          \"Extra Random Tree default\":ExtraTreesRegressor(n_estimators=100)}\n",
    "\n",
    "results_random = pd.DataFrame({'Model': [],\n",
    "                        'MSE':   [],\n",
    "                        'RMSE': [],\n",
    "                        'MAE': [],\n",
    "                        'R2': []})\n",
    "j=0\n",
    "for name in models:\n",
    "    print(\"Start training models of {}\".format(name))\n",
    "    k = 5\n",
    "    kf = KFold(n_splits=k)\n",
    "    precisions = []\n",
    "    i = 0\n",
    "    mae_global = []\n",
    "    mse_global = []\n",
    "    rmse_global = []\n",
    "    r2_global = []\n",
    "    \n",
    "    for train, test in kf.split(x):\n",
    "        i+=1\n",
    "        x_train, x_test = x[train], x[test]\n",
    "        y_train, y_test = y[train], y[test]\n",
    "        model = models[name].fit(x_train,y_train)\n",
    "        y_out = model.predict(x_test)\n",
    "\n",
    "        mae = mean_absolute_error(y_test, y_out)\n",
    "        mse = mean_squared_error(y_test, y_out)\n",
    "        rmse = mean_squared_error(y_test, y_out, squared=False)\n",
    "        r2 = r2_score(y_test, y_out)\n",
    "        \n",
    "        mae_global.append(mae)\n",
    "        mse_global.append(mse)\n",
    "        rmse_global.append(rmse)\n",
    "        r2_global.append(r2)\n",
    "        \n",
    "        results_random.loc[j] = [name, np.average(mse_global), np.average(rmse_global), np.average(mae_global), np.average(r2_global)]\n",
    "        \n",
    "        print(\"Iteration {}:mae={:.4f} mse={:.4f} rmse={:.4f} r2={:.4f}\".format(i, mae, mse, rmse, r2))\n",
    "    j+=1\n",
    "    print(\"Global: mae={:.4f} mse={:.4f} rmse={:.4f} r2={:.4f}\\n\".format(np.average(mae_global), np.average(mse_global), np.average(rmse_global), np.average(r2_global)))"
   ]
  },
  {
   "cell_type": "code",
   "execution_count": 31,
   "metadata": {},
   "outputs": [
    {
     "data": {
      "text/html": [
       "<div>\n",
       "<style scoped>\n",
       "    .dataframe tbody tr th:only-of-type {\n",
       "        vertical-align: middle;\n",
       "    }\n",
       "\n",
       "    .dataframe tbody tr th {\n",
       "        vertical-align: top;\n",
       "    }\n",
       "\n",
       "    .dataframe thead th {\n",
       "        text-align: right;\n",
       "    }\n",
       "</style>\n",
       "<table border=\"1\" class=\"dataframe\">\n",
       "  <thead>\n",
       "    <tr style=\"text-align: right;\">\n",
       "      <th></th>\n",
       "      <th>Model</th>\n",
       "      <th>MSE</th>\n",
       "      <th>RMSE</th>\n",
       "      <th>MAE</th>\n",
       "      <th>R2</th>\n",
       "    </tr>\n",
       "  </thead>\n",
       "  <tbody>\n",
       "    <tr>\n",
       "      <th>0</th>\n",
       "      <td>Rndm Forest default</td>\n",
       "      <td>284.732124</td>\n",
       "      <td>16.758732</td>\n",
       "      <td>12.612927</td>\n",
       "      <td>0.124742</td>\n",
       "    </tr>\n",
       "    <tr>\n",
       "      <th>1</th>\n",
       "      <td>Rndm Forest custom estim</td>\n",
       "      <td>285.845625</td>\n",
       "      <td>16.766438</td>\n",
       "      <td>12.624501</td>\n",
       "      <td>0.128821</td>\n",
       "    </tr>\n",
       "    <tr>\n",
       "      <th>2</th>\n",
       "      <td>Rndm Forest custom estim + custom rules</td>\n",
       "      <td>281.792101</td>\n",
       "      <td>16.661352</td>\n",
       "      <td>12.552791</td>\n",
       "      <td>0.137952</td>\n",
       "    </tr>\n",
       "    <tr>\n",
       "      <th>3</th>\n",
       "      <td>Extra Random Tree default</td>\n",
       "      <td>297.899124</td>\n",
       "      <td>17.183041</td>\n",
       "      <td>12.833234</td>\n",
       "      <td>0.063087</td>\n",
       "    </tr>\n",
       "  </tbody>\n",
       "</table>\n",
       "</div>"
      ],
      "text/plain": [
       "                                     Model         MSE       RMSE        MAE  \\\n",
       "0                      Rndm Forest default  284.732124  16.758732  12.612927   \n",
       "1                 Rndm Forest custom estim  285.845625  16.766438  12.624501   \n",
       "2  Rndm Forest custom estim + custom rules  281.792101  16.661352  12.552791   \n",
       "3                Extra Random Tree default  297.899124  17.183041  12.833234   \n",
       "\n",
       "         R2  \n",
       "0  0.124742  \n",
       "1  0.128821  \n",
       "2  0.137952  \n",
       "3  0.063087  "
      ]
     },
     "execution_count": 31,
     "metadata": {},
     "output_type": "execute_result"
    }
   ],
   "source": [
    "results_random"
   ]
  },
  {
   "cell_type": "code",
   "execution_count": null,
   "metadata": {},
   "outputs": [],
   "source": []
  }
 ],
 "metadata": {
  "kernelspec": {
   "display_name": "Python 3",
   "language": "python",
   "name": "python3"
  },
  "language_info": {
   "codemirror_mode": {
    "name": "ipython",
    "version": 3
   },
   "file_extension": ".py",
   "mimetype": "text/x-python",
   "name": "python",
   "nbconvert_exporter": "python",
   "pygments_lexer": "ipython3",
   "version": "3.8.3"
  }
 },
 "nbformat": 4,
 "nbformat_minor": 4
}
